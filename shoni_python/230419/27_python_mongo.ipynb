{
 "cells": [
  {
   "attachments": {},
   "cell_type": "markdown",
   "metadata": {},
   "source": [
    "# mongodb\n",
    "1. 라이브러리 설치\n",
    "2. 라이브러리 로드\n",
    "3. CRUD"
   ]
  },
  {
   "cell_type": "code",
   "execution_count": 1,
   "metadata": {},
   "outputs": [
    {
     "name": "stdout",
     "output_type": "stream",
     "text": [
      "Collecting pymongo\n",
      "  Downloading pymongo-4.3.3-cp311-cp311-win_amd64.whl (382 kB)\n",
      "     ---------------------------------------- 0.0/382.5 kB ? eta -:--:--\n",
      "     -------------------- ----------------- 204.8/382.5 kB 6.1 MB/s eta 0:00:01\n",
      "     -------------------------------------- 382.5/382.5 kB 7.9 MB/s eta 0:00:00\n",
      "Collecting dnspython<3.0.0,>=1.16.0\n",
      "  Downloading dnspython-2.3.0-py3-none-any.whl (283 kB)\n",
      "     ---------------------------------------- 0.0/283.7 kB ? eta -:--:--\n",
      "     -------------------------------------  276.5/283.7 kB 5.7 MB/s eta 0:00:01\n",
      "     -------------------------------------- 283.7/283.7 kB 4.3 MB/s eta 0:00:00\n",
      "Installing collected packages: dnspython, pymongo\n",
      "Successfully installed dnspython-2.3.0 pymongo-4.3.3\n"
     ]
    },
    {
     "name": "stderr",
     "output_type": "stream",
     "text": [
      "\n",
      "[notice] A new release of pip is available: 23.0.1 -> 23.1\n",
      "[notice] To update, run: python.exe -m pip install --upgrade pip\n"
     ]
    }
   ],
   "source": [
    "!pip install pymongo"
   ]
  },
  {
   "cell_type": "code",
   "execution_count": 2,
   "metadata": {},
   "outputs": [],
   "source": [
    "from pymongo import MongoClient"
   ]
  },
  {
   "cell_type": "code",
   "execution_count": 4,
   "metadata": {},
   "outputs": [],
   "source": [
    "client = MongoClient(\n",
    "    host = 'localhost',\n",
    "    port = 27017\n",
    ")"
   ]
  },
  {
   "cell_type": "code",
   "execution_count": 7,
   "metadata": {},
   "outputs": [
    {
     "data": {
      "text/plain": [
       "['admin', 'config', 'local']"
      ]
     },
     "execution_count": 7,
     "metadata": {},
     "output_type": "execute_result"
    }
   ],
   "source": [
    "# mongodb에 있는 데이터베이스의 목록 출력\n",
    "client.list_database_names()"
   ]
  },
  {
   "cell_type": "code",
   "execution_count": 6,
   "metadata": {},
   "outputs": [],
   "source": [
    "# 데이터베이스를 선택\n",
    "db = client['ubion']"
   ]
  },
  {
   "cell_type": "code",
   "execution_count": 8,
   "metadata": {},
   "outputs": [],
   "source": [
    "# collection 접근 (collection은 sql에서 table과 같은 의미)\n",
    "collection = db['test']"
   ]
  },
  {
   "cell_type": "code",
   "execution_count": 10,
   "metadata": {},
   "outputs": [
    {
     "data": {
      "text/plain": [
       "<pymongo.results.InsertOneResult at 0x2c27d9d9d20>"
      ]
     },
     "execution_count": 10,
     "metadata": {},
     "output_type": "execute_result"
    }
   ],
   "source": [
    "# CRUD -> C\n",
    "# create -> insert()\n",
    "# insert_one() / insert_many()\n",
    "# one은 value와 유사 / many는 vlaues와 유사\n",
    "\n",
    "data = {\n",
    "    'id' : 'test',\n",
    "    'pass' : '12324'\n",
    "}\n",
    "collection.insert_one(data)"
   ]
  },
  {
   "cell_type": "code",
   "execution_count": 11,
   "metadata": {},
   "outputs": [
    {
     "data": {
      "text/plain": [
       "{'_id': ObjectId('643f8b0ddbddae7ae9f17f93'), 'id': 'test', 'pass': '12324'}"
      ]
     },
     "execution_count": 11,
     "metadata": {},
     "output_type": "execute_result"
    }
   ],
   "source": [
    "collection.find_one()\n",
    "# 입력하지도 않았는데 만들어진 _id 부분의 (32자리의 키)는 절대 중복될 수 없다. primary key와 유사한 역할\n",
    "# 해쉬값 : 암호화된 데이터로 32 자리. 중복되기 정말 힘들다"
   ]
  },
  {
   "cell_type": "code",
   "execution_count": 12,
   "metadata": {},
   "outputs": [
    {
     "data": {
      "text/plain": [
       "<pymongo.results.InsertManyResult at 0x2c27ceb0cd0>"
      ]
     },
     "execution_count": 12,
     "metadata": {},
     "output_type": "execute_result"
    }
   ],
   "source": [
    "# 여러 데이터 담는다\n",
    "data = [\n",
    "    {\n",
    "        'name' : 'test1',\n",
    "        'phone' : '01011112222',\n",
    "        'gender' : 'male'\n",
    "    },\n",
    "    {\n",
    "        'loc' : 'seoul'\n",
    "    }\n",
    "]\n",
    "collection.insert_many(data)"
   ]
  },
  {
   "cell_type": "code",
   "execution_count": 14,
   "metadata": {},
   "outputs": [
    {
     "data": {
      "text/plain": [
       "[{'_id': ObjectId('643f8b0ddbddae7ae9f17f93'), 'id': 'test', 'pass': '12324'},\n",
       " {'_id': ObjectId('643f8cc5dbddae7ae9f17f94'),\n",
       "  'name': 'test1',\n",
       "  'phone': '01011112222',\n",
       "  'gender': 'male'},\n",
       " {'_id': ObjectId('643f8cc5dbddae7ae9f17f95'), 'loc': 'seoul'}]"
      ]
     },
     "execution_count": 14,
     "metadata": {},
     "output_type": "execute_result"
    }
   ],
   "source": [
    "list(collection.find())"
   ]
  },
  {
   "attachments": {},
   "cell_type": "markdown",
   "metadata": {},
   "source": [
    "1. sql에서 test table에서 name이 test1인 경우의 데이터를 출력\n",
    "    - select * from test where name = 'test1'"
   ]
  },
  {
   "cell_type": "code",
   "execution_count": 15,
   "metadata": {},
   "outputs": [
    {
     "data": {
      "text/plain": [
       "[{'_id': ObjectId('643f8cc5dbddae7ae9f17f94'),\n",
       "  'name': 'test1',\n",
       "  'phone': '01011112222',\n",
       "  'gender': 'male'}]"
      ]
     },
     "execution_count": 15,
     "metadata": {},
     "output_type": "execute_result"
    }
   ],
   "source": [
    "list(collection.find({'name' : 'test1'}))"
   ]
  },
  {
   "attachments": {},
   "cell_type": "markdown",
   "metadata": {},
   "source": [
    "1. 해당하는 컬럼의 데이터만 출력하려면\n",
    "    - select name from test"
   ]
  },
  {
   "cell_type": "code",
   "execution_count": 17,
   "metadata": {},
   "outputs": [
    {
     "data": {
      "text/plain": [
       "[{'_id': ObjectId('643f8b0ddbddae7ae9f17f93')},\n",
       " {'_id': ObjectId('643f8cc5dbddae7ae9f17f94'), 'name': 'test1'},\n",
       " {'_id': ObjectId('643f8cc5dbddae7ae9f17f95')}]"
      ]
     },
     "execution_count": 17,
     "metadata": {},
     "output_type": "execute_result"
    }
   ],
   "source": [
    "list(collection.find({}, {'name' : 1}))\n",
    "# {},{'name' : 1} 에서 앞의 소괄호는 where 절 조건, 뒤는 컬럼 조건. 조건이 비어있으면 전체를 뜻한다"
   ]
  },
  {
   "attachments": {},
   "cell_type": "markdown",
   "metadata": {},
   "source": [
    "1. 데이터의 수정\n",
    "    - update test set pass = '0000' where id = 'test'\n",
    "    - test 테이블에 id가 test인 데이터에서 pass의 값을 0000으로 수정하겠다"
   ]
  },
  {
   "cell_type": "code",
   "execution_count": 20,
   "metadata": {},
   "outputs": [
    {
     "data": {
      "text/plain": [
       "<pymongo.results.UpdateResult at 0x2c27d9db670>"
      ]
     },
     "execution_count": 20,
     "metadata": {},
     "output_type": "execute_result"
    }
   ],
   "source": [
    "collection.update_one(\n",
    "    {\n",
    "        'id' : 'test'\n",
    "    },\n",
    "    {\n",
    "        '$set' : {\n",
    "            'pass' : '0000'\n",
    "        }\n",
    "    }\n",
    ")"
   ]
  },
  {
   "cell_type": "code",
   "execution_count": 21,
   "metadata": {},
   "outputs": [
    {
     "data": {
      "text/plain": [
       "{'_id': ObjectId('643f8b0ddbddae7ae9f17f93'), 'id': 'test', 'pass': '0000'}"
      ]
     },
     "execution_count": 21,
     "metadata": {},
     "output_type": "execute_result"
    }
   ],
   "source": [
    "collection.find_one()"
   ]
  },
  {
   "attachments": {},
   "cell_type": "markdown",
   "metadata": {},
   "source": [
    "1. 데이터의 삭제\n",
    "    - delete from test where id = 'test'\n",
    "    - test 테이블에서 id가 'test인 데이터를 삭제"
   ]
  },
  {
   "cell_type": "code",
   "execution_count": 22,
   "metadata": {},
   "outputs": [
    {
     "data": {
      "text/plain": [
       "<pymongo.results.DeleteResult at 0x2c27ddc72b0>"
      ]
     },
     "execution_count": 22,
     "metadata": {},
     "output_type": "execute_result"
    }
   ],
   "source": [
    "collection.delete_one(\n",
    "    {\n",
    "    'id' : 'test'\n",
    "    }\n",
    ")\n",
    "# delete_many 하면 test인 값 다 지워짐\n",
    "# delete_one 하면 상단의 하나만 지워짐"
   ]
  },
  {
   "cell_type": "code",
   "execution_count": 24,
   "metadata": {},
   "outputs": [
    {
     "data": {
      "text/plain": [
       "[{'_id': ObjectId('643f8cc5dbddae7ae9f17f94'),\n",
       "  'name': 'test1',\n",
       "  'phone': '01011112222',\n",
       "  'gender': 'male'},\n",
       " {'_id': ObjectId('643f8cc5dbddae7ae9f17f95'), 'loc': 'seoul'}]"
      ]
     },
     "execution_count": 24,
     "metadata": {},
     "output_type": "execute_result"
    }
   ],
   "source": [
    "list(collection.find())"
   ]
  },
  {
   "cell_type": "code",
   "execution_count": 25,
   "metadata": {},
   "outputs": [
    {
     "data": {
      "text/plain": [
       "[{'_id': ObjectId('643f8cc5dbddae7ae9f17f94'),\n",
       "  'name': 'test1',\n",
       "  'phone': '01011112222',\n",
       "  'gender': 'male'},\n",
       " {'_id': ObjectId('643f8cc5dbddae7ae9f17f95'), 'loc': 'seoul'}]"
      ]
     },
     "execution_count": 25,
     "metadata": {},
     "output_type": "execute_result"
    }
   ],
   "source": [
    "list(client['ubion']['test'].find())\n",
    "# 딕셔너리에서 key값의 key값을 찾아가는 것과 유사"
   ]
  },
  {
   "attachments": {},
   "cell_type": "markdown",
   "metadata": {},
   "source": [
    "### mongodb select 조건식\n",
    "\n",
    "- find(옵션1, 옵션2, 옵션3, ..., 컬럼 선택)\n",
    "    \n",
    "    1. db.collection.find() -> select * from TABLE\n",
    "    2. db.collection.find({}, {'id':1, 'pass':1}) -> select id, pass from TABLE\n",
    "    3. db.collection.find({}, {'id':1, 'pass':1, '_id' : 0}) -> 2번과정과 같은 sql문이지만 _id를 보여주지 않겠다.\n",
    "    4. db.collection.find({'id':'test'}) -> select * from TABLE where id = 'test\n",
    "    5. db.collection.find({'id':'test', 'pass':'1234'}) -> select * from TABLE where id = 'test' and pass = '1234'\n",
    "    6. db.collection.find({'id':'test'}, {'pass':'1234'}) -> select * from TABLE where id = 'test' or pass = '1234'\n",
    "    7. db.collection.find({'age':{'$gt' : 25}}) -> select * from TABLE where age > 25\n",
    "    8. db.collection.find({'age':{'$lt' : 25}}) -> select * from TABLE where age < 25\n",
    "    9. db.collection.find({'id':{/bc/}}) -> select * from TABLE where id like '%bc%'\n",
    "        bc가 포함되어 있는 값\n",
    "    10. db.collection.find().sort({'id':1}) -> select * from TABLE order by id ASC\n",
    "    11. db.collection.find().sort({'id':-1}) -> select * from TABLE order by id DESC\n",
    "    12. db.collection.find().limit(10) -> select * from TABLE limit 10"
   ]
  },
  {
   "cell_type": "code",
   "execution_count": null,
   "metadata": {},
   "outputs": [],
   "source": []
  }
 ],
 "metadata": {
  "kernelspec": {
   "display_name": "Python 3",
   "language": "python",
   "name": "python3"
  },
  "language_info": {
   "codemirror_mode": {
    "name": "ipython",
    "version": 3
   },
   "file_extension": ".py",
   "mimetype": "text/x-python",
   "name": "python",
   "nbconvert_exporter": "python",
   "pygments_lexer": "ipython3",
   "version": "3.11.2"
  },
  "orig_nbformat": 4
 },
 "nbformat": 4,
 "nbformat_minor": 2
}
