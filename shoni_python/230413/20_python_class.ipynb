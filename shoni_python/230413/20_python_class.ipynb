{
 "cells": [
  {
   "attachments": {},
   "cell_type": "markdown",
   "metadata": {},
   "source": [
    "# Class 생성\n",
    "1. class 이름은 User\n",
    "2. 생성자 함수(__init__)에서 유저의 이름, 휴대폰 번호, 생년월일 매개변수를 이용하여 self변수 만들어서 저장\n",
    "3. info() 함수를 생성하여 유저의 정보를 출력하는 함수 생성"
   ]
  },
  {
   "cell_type": "code",
   "execution_count": 1,
   "metadata": {},
   "outputs": [],
   "source": [
    "import numpy as np\n",
    "import pandas as pd\n",
    "from datetime import datetime"
   ]
  },
  {
   "cell_type": "code",
   "execution_count": 2,
   "metadata": {},
   "outputs": [],
   "source": [
    "# 클래스 선언\n",
    "class User :\n",
    "\n",
    "    # 생성자 함수 생성 : self를 제외한 매개변수는 3개\n",
    "    def __init__(self, _name, _phone, _birth) :\n",
    "        self.name = _name\n",
    "        self.phone = _phone\n",
    "        self.birth = _birth\n",
    "\n",
    "    # info() 생성하여 유저의 정보 출력하는 함수 생성\n",
    "    def info(self) :\n",
    "        return (self.name, self.phone, self.birth)"
   ]
  },
  {
   "cell_type": "code",
   "execution_count": 3,
   "metadata": {},
   "outputs": [],
   "source": [
    "# test\n",
    "# 클래스 생성\n",
    "test = User('test', '01012345678', '900101')"
   ]
  },
  {
   "cell_type": "code",
   "execution_count": 4,
   "metadata": {},
   "outputs": [
    {
     "data": {
      "text/plain": [
       "'test'"
      ]
     },
     "execution_count": 4,
     "metadata": {},
     "output_type": "execute_result"
    }
   ],
   "source": [
    "test.name"
   ]
  },
  {
   "cell_type": "code",
   "execution_count": 5,
   "metadata": {},
   "outputs": [
    {
     "data": {
      "text/plain": [
       "'01012345678'"
      ]
     },
     "execution_count": 5,
     "metadata": {},
     "output_type": "execute_result"
    }
   ],
   "source": [
    "test.phone"
   ]
  },
  {
   "cell_type": "code",
   "execution_count": 6,
   "metadata": {},
   "outputs": [
    {
     "data": {
      "text/plain": [
       "'900101'"
      ]
     },
     "execution_count": 6,
     "metadata": {},
     "output_type": "execute_result"
    }
   ],
   "source": [
    "test.birth"
   ]
  },
  {
   "cell_type": "code",
   "execution_count": 7,
   "metadata": {},
   "outputs": [
    {
     "data": {
      "text/plain": [
       "('test', '01012345678', '900101')"
      ]
     },
     "execution_count": 7,
     "metadata": {},
     "output_type": "execute_result"
    }
   ],
   "source": [
    "test.info()"
   ]
  },
  {
   "attachments": {},
   "cell_type": "markdown",
   "metadata": {},
   "source": [
    "# 지갑 클래스 선언\n",
    "1. 클래스 이름은 Wallet\n",
    "2. 생성자 함수에는 소유자의 이름, 지갑의 브랜드, 지갑의 가치, 잔액\n",
    "3. 잔액은 기본값은 0\n",
    "4. work()라는 함수를 생성 : 매개변수에 일의 종류, 일의 종류가 'TM'이면 지갑의 잔액을 500 증가, alba이면 지갑의 잔액을 300 증가, serving이면 잔액을 400 증가\n",
    "5. wallet_info()라는 함수를 생성 : 지갑의 정보(소유자의 이름, 지갑의 브랜드, 지갑의 가치, 잔액)를 출력 "
   ]
  },
  {
   "cell_type": "code",
   "execution_count": 128,
   "metadata": {},
   "outputs": [],
   "source": [
    "# 클래스 선언\n",
    "class Wallet(User) :            # User라는 클래스를 상속받겠다. (__init__ 둘다 실행된다.)\n",
    "\n",
    "    # 클래스 변수 (이 클래스 안에서 모두가 공통적으로 사용할 수 있는 변수)\n",
    "    work_type = {\n",
    "        'TM' : 500,\n",
    "        'alba' : 300,\n",
    "        'serving' : 400,\n",
    "    }\n",
    "\n",
    "    item_type = {\n",
    "        'cash' : 200,\n",
    "        'food' : 300,\n",
    "        'clothes' : 500\n",
    "    }\n",
    "\n",
    "\n",
    "    # 생성자 함수\n",
    "    def __init__(self, _name, _phone, _birth, _brand, _value, _balance = 0) :\n",
    "        # 부모 클래스의 __init__ 함수 실행\n",
    "        super().__init__(_name, _phone, _birth)\n",
    "        self.brand = _brand\n",
    "        self.value = _value\n",
    "        self.balance = _balance\n",
    "\n",
    "    # work()\n",
    "    def work(self, _type) :\n",
    "        # # 일의 조건에 따라 잔액이 다르게 변동\n",
    "        # if _type == 'TM' :\n",
    "        #     # self.balance = self.balance + 500\n",
    "        #     self.balance += 500\n",
    "        # elif _type == 'alba' :\n",
    "        #     self.balance += 300\n",
    "        # elif _type == 'serving' :\n",
    "        #     self.balance += 400\n",
    "        # else :\n",
    "        #     return \"일의 타입이 맞지 않습니다.\"\n",
    "        # return f\"{_type}의 일을 완료하였습니다. 현재의 잔액은 {self.balance}입니다\"\n",
    "        if _type in self.work_type.keys() :\n",
    "            self.balance += self.work_type[_type]\n",
    "        else :\n",
    "            return \"일의 타입이 맞지 않습니다.\"\n",
    "        return f\"{_type}의 일을 완료하였습니다. 현재의 잔액은 {self.balance}입니다\"\n",
    "    \n",
    "    # 구매하는 함수 생성\n",
    "    def buy(self, _item) :\n",
    "        # if _item == 'cash' :\n",
    "        #     self.cost = 200\n",
    "        # elif _item == 'food' :\n",
    "        #     self.cost = 300\n",
    "        # elif _item == 'clothes' :\n",
    "        #     self.cost = 500\n",
    "        # else :\n",
    "        #     return \"item의 타입이 맞지 않습니다\"\n",
    "        \n",
    "        if _item in self.item_type.keys() :\n",
    "        \n",
    "            if self.balance >= self.item_type[_item] :\n",
    "                self.balance -= self.item_type[_item]\n",
    "            else :\n",
    "                return \"지갑의 잔액이 부족합니다.\"\n",
    "        else :\n",
    "            return \"item의 타입이 맞지 않습니다.\"\n",
    "\n",
    "\n",
    "\n",
    "        return f\"{_item}을(를) 구매하였습니다. 현재의 잔액은 {self.balance}입니다.\"\n",
    "    \n",
    "    # 일과 구매의 목록을 추가하는 함수 생성\n",
    "    def add_type(self, _choose, _key, _value) :\n",
    "        # _choose : 일을 추가할지, 구매 목록을 추가할지\n",
    "        # _key : dict의 key값\n",
    "        # _value : dict의 value값\n",
    "        if _choose == 'work' :\n",
    "            if _key not in self.work_type.keys() :\n",
    "                self.work_type[_key] = _value\n",
    "            else :\n",
    "                return \"일 목록이 존재합니다.\"\n",
    "        elif _choose == 'buy' :\n",
    "            if _key not in self.item_type.keys() :\n",
    "                self.item_type[_key] = _value\n",
    "            else :\n",
    "                return \"구매 목록이 존재합니다.\"\n",
    "        else :\n",
    "            return \"Choose의 값이 잘못되었습니다.\"\n",
    "        \n",
    "        return f\"{_choose}의 목록이 추가되었습니다.\"\n",
    "        \n",
    "    \n",
    "    # wallet_info()\n",
    "    def info(self) :\n",
    "        return(self.brand, self.value, self.balance)"
   ]
  },
  {
   "cell_type": "code",
   "execution_count": 129,
   "metadata": {},
   "outputs": [],
   "source": [
    "test = Wallet('test', '01012345678', '900101', 'gucci', '5000')"
   ]
  },
  {
   "cell_type": "code",
   "execution_count": 131,
   "metadata": {},
   "outputs": [],
   "source": [
    "test2 = User('test2', '01011112222', '000101')"
   ]
  },
  {
   "cell_type": "code",
   "execution_count": 132,
   "metadata": {},
   "outputs": [
    {
     "data": {
      "text/plain": [
       "('test2', '01011112222', '000101')"
      ]
     },
     "execution_count": 132,
     "metadata": {},
     "output_type": "execute_result"
    }
   ],
   "source": [
    "test2.info()        # 오버라이딩 ; 부모클래스의 함수를 상실시키지 않고, 자식클래스에서 기능이 수정해서 사용할 수 있다.\n",
    "                    # 함수명을 부모와 자식 클래스에서 동일하게 지정해야만, 사용할 수 있다."
   ]
  },
  {
   "cell_type": "code",
   "execution_count": 130,
   "metadata": {},
   "outputs": [
    {
     "data": {
      "text/plain": [
       "('gucci', '5000', 0)"
      ]
     },
     "execution_count": 130,
     "metadata": {},
     "output_type": "execute_result"
    }
   ],
   "source": [
    "test.info()"
   ]
  },
  {
   "cell_type": "code",
   "execution_count": 124,
   "metadata": {},
   "outputs": [
    {
     "data": {
      "text/plain": [
       "'TM의 일을 완료하였습니다. 현재의 잔액은 500입니다'"
      ]
     },
     "execution_count": 124,
     "metadata": {},
     "output_type": "execute_result"
    }
   ],
   "source": [
    "test.work('TM')"
   ]
  },
  {
   "cell_type": "code",
   "execution_count": 117,
   "metadata": {},
   "outputs": [
    {
     "data": {
      "text/plain": [
       "'teach의 일을 완료하였습니다. 현재의 잔액은 700입니다'"
      ]
     },
     "execution_count": 117,
     "metadata": {},
     "output_type": "execute_result"
    }
   ],
   "source": [
    "test.work('teach')"
   ]
  },
  {
   "cell_type": "code",
   "execution_count": 116,
   "metadata": {},
   "outputs": [
    {
     "data": {
      "text/plain": [
       "'work의 목록이 추가되었습니다.'"
      ]
     },
     "execution_count": 116,
     "metadata": {},
     "output_type": "execute_result"
    }
   ],
   "source": [
    "test.add_type('work', 'teach', 200)"
   ]
  },
  {
   "cell_type": "code",
   "execution_count": 103,
   "metadata": {},
   "outputs": [
    {
     "data": {
      "text/plain": [
       "'지갑의 잔액이 부족합니다.'"
      ]
     },
     "execution_count": 103,
     "metadata": {},
     "output_type": "execute_result"
    }
   ],
   "source": [
    "test.buy('cash')"
   ]
  },
  {
   "cell_type": "code",
   "execution_count": 102,
   "metadata": {},
   "outputs": [
    {
     "data": {
      "text/plain": [
       "'지갑의 잔액이 부족합니다.'"
      ]
     },
     "execution_count": 102,
     "metadata": {},
     "output_type": "execute_result"
    }
   ],
   "source": [
    "test.buy('food')"
   ]
  },
  {
   "cell_type": "code",
   "execution_count": 101,
   "metadata": {},
   "outputs": [
    {
     "data": {
      "text/plain": [
       "'지갑의 잔액이 부족합니다.'"
      ]
     },
     "execution_count": 101,
     "metadata": {},
     "output_type": "execute_result"
    }
   ],
   "source": [
    "test.buy('clothes')"
   ]
  },
  {
   "cell_type": "code",
   "execution_count": 105,
   "metadata": {},
   "outputs": [
    {
     "data": {
      "text/plain": [
       "'buy의 목록이 추가되었습니다.'"
      ]
     },
     "execution_count": 105,
     "metadata": {},
     "output_type": "execute_result"
    }
   ],
   "source": [
    "test.add_type('buy', 'coffee', 100)"
   ]
  },
  {
   "cell_type": "code",
   "execution_count": 106,
   "metadata": {},
   "outputs": [
    {
     "data": {
      "text/plain": [
       "'지갑의 잔액이 부족합니다.'"
      ]
     },
     "execution_count": 106,
     "metadata": {},
     "output_type": "execute_result"
    }
   ],
   "source": [
    "test.buy('coffee')"
   ]
  },
  {
   "cell_type": "code",
   "execution_count": 34,
   "metadata": {},
   "outputs": [
    {
     "data": {
      "text/plain": [
       "('test', 'gucci', '5000', 500)"
      ]
     },
     "execution_count": 34,
     "metadata": {},
     "output_type": "execute_result"
    }
   ],
   "source": [
    "test.wallet_info()"
   ]
  },
  {
   "cell_type": "code",
   "execution_count": 118,
   "metadata": {},
   "outputs": [],
   "source": [
    "test2 = Wallet(\"test2\", \"chanel\", \"100000\")"
   ]
  },
  {
   "cell_type": "code",
   "execution_count": 119,
   "metadata": {},
   "outputs": [
    {
     "data": {
      "text/plain": [
       "'alba의 일을 완료하였습니다. 현재의 잔액은 300입니다'"
      ]
     },
     "execution_count": 119,
     "metadata": {},
     "output_type": "execute_result"
    }
   ],
   "source": [
    "test2.work('alba')"
   ]
  },
  {
   "cell_type": "code",
   "execution_count": 120,
   "metadata": {},
   "outputs": [
    {
     "data": {
      "text/plain": [
       "'teach의 일을 완료하였습니다. 현재의 잔액은 500입니다'"
      ]
     },
     "execution_count": 120,
     "metadata": {},
     "output_type": "execute_result"
    }
   ],
   "source": [
    "test2.work('teach')"
   ]
  },
  {
   "cell_type": "code",
   "execution_count": 36,
   "metadata": {},
   "outputs": [
    {
     "data": {
      "text/plain": [
       "('test', 'gucci', '5000', 500)"
      ]
     },
     "execution_count": 36,
     "metadata": {},
     "output_type": "execute_result"
    }
   ],
   "source": [
    "test.wallet_info()"
   ]
  },
  {
   "cell_type": "code",
   "execution_count": 37,
   "metadata": {},
   "outputs": [
    {
     "data": {
      "text/plain": [
       "('test2', 'chanel', '100000', 0)"
      ]
     },
     "execution_count": 37,
     "metadata": {},
     "output_type": "execute_result"
    }
   ],
   "source": [
    "test2.wallet_info()"
   ]
  },
  {
   "cell_type": "code",
   "execution_count": null,
   "metadata": {},
   "outputs": [],
   "source": []
  }
 ],
 "metadata": {
  "kernelspec": {
   "display_name": "Python 3",
   "language": "python",
   "name": "python3"
  },
  "language_info": {
   "codemirror_mode": {
    "name": "ipython",
    "version": 3
   },
   "file_extension": ".py",
   "mimetype": "text/x-python",
   "name": "python",
   "nbconvert_exporter": "python",
   "pygments_lexer": "ipython3",
   "version": "3.11.2"
  },
  "orig_nbformat": 4
 },
 "nbformat": 4,
 "nbformat_minor": 2
}
