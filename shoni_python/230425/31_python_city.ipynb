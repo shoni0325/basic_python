{
 "cells": [
  {
   "cell_type": "code",
   "execution_count": 1,
   "metadata": {},
   "outputs": [],
   "source": [
    "import  pandas as pd"
   ]
  },
  {
   "cell_type": "code",
   "execution_count": 148,
   "metadata": {},
   "outputs": [
    {
     "data": {
      "text/html": [
       "<div>\n",
       "<style scoped>\n",
       "    .dataframe tbody tr th:only-of-type {\n",
       "        vertical-align: middle;\n",
       "    }\n",
       "\n",
       "    .dataframe tbody tr th {\n",
       "        vertical-align: top;\n",
       "    }\n",
       "\n",
       "    .dataframe thead th {\n",
       "        text-align: right;\n",
       "    }\n",
       "</style>\n",
       "<table border=\"1\" class=\"dataframe\">\n",
       "  <thead>\n",
       "    <tr style=\"text-align: right;\">\n",
       "      <th></th>\n",
       "      <th>지역명</th>\n",
       "      <th>규모구분</th>\n",
       "      <th>연도</th>\n",
       "      <th>월</th>\n",
       "      <th>분양가격(㎡)</th>\n",
       "    </tr>\n",
       "  </thead>\n",
       "  <tbody>\n",
       "    <tr>\n",
       "      <th>0</th>\n",
       "      <td>서울</td>\n",
       "      <td>전체</td>\n",
       "      <td>2015</td>\n",
       "      <td>10</td>\n",
       "      <td>5841</td>\n",
       "    </tr>\n",
       "    <tr>\n",
       "      <th>1</th>\n",
       "      <td>서울</td>\n",
       "      <td>전용면적 60㎡이하</td>\n",
       "      <td>2015</td>\n",
       "      <td>10</td>\n",
       "      <td>5652</td>\n",
       "    </tr>\n",
       "    <tr>\n",
       "      <th>2</th>\n",
       "      <td>서울</td>\n",
       "      <td>전용면적 60㎡초과 85㎡이하</td>\n",
       "      <td>2015</td>\n",
       "      <td>10</td>\n",
       "      <td>5882</td>\n",
       "    </tr>\n",
       "    <tr>\n",
       "      <th>3</th>\n",
       "      <td>서울</td>\n",
       "      <td>전용면적 85㎡초과 102㎡이하</td>\n",
       "      <td>2015</td>\n",
       "      <td>10</td>\n",
       "      <td>5721</td>\n",
       "    </tr>\n",
       "    <tr>\n",
       "      <th>4</th>\n",
       "      <td>서울</td>\n",
       "      <td>전용면적 102㎡초과</td>\n",
       "      <td>2015</td>\n",
       "      <td>10</td>\n",
       "      <td>5879</td>\n",
       "    </tr>\n",
       "    <tr>\n",
       "      <th>...</th>\n",
       "      <td>...</td>\n",
       "      <td>...</td>\n",
       "      <td>...</td>\n",
       "      <td>...</td>\n",
       "      <td>...</td>\n",
       "    </tr>\n",
       "    <tr>\n",
       "      <th>4500</th>\n",
       "      <td>제주</td>\n",
       "      <td>전체</td>\n",
       "      <td>2020</td>\n",
       "      <td>2</td>\n",
       "      <td>3955</td>\n",
       "    </tr>\n",
       "    <tr>\n",
       "      <th>4501</th>\n",
       "      <td>제주</td>\n",
       "      <td>전용면적 60㎡이하</td>\n",
       "      <td>2020</td>\n",
       "      <td>2</td>\n",
       "      <td>4039</td>\n",
       "    </tr>\n",
       "    <tr>\n",
       "      <th>4502</th>\n",
       "      <td>제주</td>\n",
       "      <td>전용면적 60㎡초과 85㎡이하</td>\n",
       "      <td>2020</td>\n",
       "      <td>2</td>\n",
       "      <td>3962</td>\n",
       "    </tr>\n",
       "    <tr>\n",
       "      <th>4503</th>\n",
       "      <td>제주</td>\n",
       "      <td>전용면적 85㎡초과 102㎡이하</td>\n",
       "      <td>2020</td>\n",
       "      <td>2</td>\n",
       "      <td>NaN</td>\n",
       "    </tr>\n",
       "    <tr>\n",
       "      <th>4504</th>\n",
       "      <td>제주</td>\n",
       "      <td>전용면적 102㎡초과</td>\n",
       "      <td>2020</td>\n",
       "      <td>2</td>\n",
       "      <td>3601</td>\n",
       "    </tr>\n",
       "  </tbody>\n",
       "</table>\n",
       "<p>4505 rows × 5 columns</p>\n",
       "</div>"
      ],
      "text/plain": [
       "     지역명               규모구분    연도   월 분양가격(㎡)\n",
       "0     서울                 전체  2015  10    5841\n",
       "1     서울         전용면적 60㎡이하  2015  10    5652\n",
       "2     서울   전용면적 60㎡초과 85㎡이하  2015  10    5882\n",
       "3     서울  전용면적 85㎡초과 102㎡이하  2015  10    5721\n",
       "4     서울        전용면적 102㎡초과  2015  10    5879\n",
       "...   ..                ...   ...  ..     ...\n",
       "4500  제주                 전체  2020   2    3955\n",
       "4501  제주         전용면적 60㎡이하  2020   2    4039\n",
       "4502  제주   전용면적 60㎡초과 85㎡이하  2020   2    3962\n",
       "4503  제주  전용면적 85㎡초과 102㎡이하  2020   2     NaN\n",
       "4504  제주        전용면적 102㎡초과  2020   2    3601\n",
       "\n",
       "[4505 rows x 5 columns]"
      ]
     },
     "execution_count": 148,
     "metadata": {},
     "output_type": "execute_result"
    }
   ],
   "source": [
    "df = pd.read_csv(\"https://bit.ly/ds-house-price\")\n",
    "df"
   ]
  },
  {
   "cell_type": "code",
   "execution_count": 149,
   "metadata": {},
   "outputs": [],
   "source": [
    "df = df.rename(columns = {'분양가격(㎡)' : '분양가격'})"
   ]
  },
  {
   "cell_type": "code",
   "execution_count": 50,
   "metadata": {},
   "outputs": [
    {
     "name": "stdout",
     "output_type": "stream",
     "text": [
      "<class 'pandas.core.frame.DataFrame'>\n",
      "RangeIndex: 4505 entries, 0 to 4504\n",
      "Data columns (total 5 columns):\n",
      " #   Column  Non-Null Count  Dtype \n",
      "---  ------  --------------  ----- \n",
      " 0   지역명     4505 non-null   object\n",
      " 1   규모구분    4505 non-null   object\n",
      " 2   연도      4505 non-null   int64 \n",
      " 3   월       4505 non-null   int64 \n",
      " 4   분양가격    4210 non-null   object\n",
      "dtypes: int64(2), object(3)\n",
      "memory usage: 176.1+ KB\n"
     ]
    }
   ],
   "source": [
    "df.info()"
   ]
  },
  {
   "attachments": {},
   "cell_type": "markdown",
   "metadata": {},
   "source": [
    "1. 분양가격 컬럼의 데이터의 형태를 int의 형태로 변경 (결측치는 0으로)\n",
    "2. 규모구분 컬럼의 '전용면적' 단어를 삭제\n",
    "3. 지역, 규모구분 별 분양가격의 평균가"
   ]
  },
  {
   "attachments": {},
   "cell_type": "markdown",
   "metadata": {},
   "source": [
    "NAN -> 결측치 : 값이 존재하지 않는다.\n",
    "\"\" -> 공백이라는 데이터\n",
    "\" \" -> 데이터\n",
    "\"   \" -> 데이터"
   ]
  },
  {
   "attachments": {},
   "cell_type": "markdown",
   "metadata": {},
   "source": [
    "소연풀이"
   ]
  },
  {
   "cell_type": "code",
   "execution_count": 89,
   "metadata": {},
   "outputs": [
    {
     "data": {
      "text/plain": [
       "0       5841\n",
       "1       5652\n",
       "2       5882\n",
       "3       5721\n",
       "4       5879\n",
       "        ... \n",
       "4500    3955\n",
       "4501    4039\n",
       "4502    3962\n",
       "4503       0\n",
       "4504    3601\n",
       "Name: 분양가격, Length: 4505, dtype: object"
      ]
     },
     "execution_count": 89,
     "metadata": {},
     "output_type": "execute_result"
    }
   ],
   "source": [
    "df['분양가격']"
   ]
  },
  {
   "cell_type": "code",
   "execution_count": 132,
   "metadata": {},
   "outputs": [],
   "source": [
    "df['분양가격'] = df['분양가격'].str.replace(\",\",\"\").str.replace(\"-\",\"\").replace(\"  \",\"\").replace('',)"
   ]
  },
  {
   "cell_type": "code",
   "execution_count": 133,
   "metadata": {},
   "outputs": [
    {
     "data": {
      "text/plain": [
       "0       5841.0\n",
       "1       5652.0\n",
       "2       5882.0\n",
       "3       5721.0\n",
       "4       5879.0\n",
       "         ...  \n",
       "4500    3955.0\n",
       "4501    4039.0\n",
       "4502    3962.0\n",
       "4503       NaN\n",
       "4504    3601.0\n",
       "Name: 분양가격, Length: 4505, dtype: float64"
      ]
     },
     "execution_count": 133,
     "metadata": {},
     "output_type": "execute_result"
    }
   ],
   "source": [
    "df['분양가격'].astype(float)"
   ]
  },
  {
   "cell_type": "code",
   "execution_count": 134,
   "metadata": {},
   "outputs": [],
   "source": [
    "df['분양가격'] = df['분양가격'].fillna(0)"
   ]
  },
  {
   "cell_type": "code",
   "execution_count": 139,
   "metadata": {},
   "outputs": [],
   "source": [
    "df['분양가격'] = df['분양가격'].astype(int)"
   ]
  },
  {
   "cell_type": "code",
   "execution_count": 108,
   "metadata": {},
   "outputs": [],
   "source": [
    "df['규모부분'] = df['규모구분'].str.replace(\"전용면적\",\"\")"
   ]
  },
  {
   "attachments": {},
   "cell_type": "markdown",
   "metadata": {},
   "source": [
    "교수님 풀이"
   ]
  },
  {
   "cell_type": "code",
   "execution_count": 119,
   "metadata": {},
   "outputs": [
    {
     "data": {
      "text/html": [
       "<div>\n",
       "<style scoped>\n",
       "    .dataframe tbody tr th:only-of-type {\n",
       "        vertical-align: middle;\n",
       "    }\n",
       "\n",
       "    .dataframe tbody tr th {\n",
       "        vertical-align: top;\n",
       "    }\n",
       "\n",
       "    .dataframe thead th {\n",
       "        text-align: right;\n",
       "    }\n",
       "</style>\n",
       "<table border=\"1\" class=\"dataframe\">\n",
       "  <thead>\n",
       "    <tr style=\"text-align: right;\">\n",
       "      <th></th>\n",
       "      <th>지역명</th>\n",
       "      <th>규모구분</th>\n",
       "      <th>연도</th>\n",
       "      <th>월</th>\n",
       "      <th>분양가격</th>\n",
       "    </tr>\n",
       "  </thead>\n",
       "  <tbody>\n",
       "    <tr>\n",
       "      <th>28</th>\n",
       "      <td>광주</td>\n",
       "      <td>전용면적 85㎡초과 102㎡이하</td>\n",
       "      <td>2015</td>\n",
       "      <td>10</td>\n",
       "      <td></td>\n",
       "    </tr>\n",
       "    <tr>\n",
       "      <th>29</th>\n",
       "      <td>광주</td>\n",
       "      <td>전용면적 102㎡초과</td>\n",
       "      <td>2015</td>\n",
       "      <td>10</td>\n",
       "      <td></td>\n",
       "    </tr>\n",
       "    <tr>\n",
       "      <th>34</th>\n",
       "      <td>대전</td>\n",
       "      <td>전용면적 102㎡초과</td>\n",
       "      <td>2015</td>\n",
       "      <td>10</td>\n",
       "      <td></td>\n",
       "    </tr>\n",
       "    <tr>\n",
       "      <th>81</th>\n",
       "      <td>제주</td>\n",
       "      <td>전용면적 60㎡이하</td>\n",
       "      <td>2015</td>\n",
       "      <td>10</td>\n",
       "      <td></td>\n",
       "    </tr>\n",
       "    <tr>\n",
       "      <th>113</th>\n",
       "      <td>광주</td>\n",
       "      <td>전용면적 85㎡초과 102㎡이하</td>\n",
       "      <td>2015</td>\n",
       "      <td>11</td>\n",
       "      <td></td>\n",
       "    </tr>\n",
       "    <tr>\n",
       "      <th>114</th>\n",
       "      <td>광주</td>\n",
       "      <td>전용면적 102㎡초과</td>\n",
       "      <td>2015</td>\n",
       "      <td>11</td>\n",
       "      <td></td>\n",
       "    </tr>\n",
       "    <tr>\n",
       "      <th>119</th>\n",
       "      <td>대전</td>\n",
       "      <td>전용면적 102㎡초과</td>\n",
       "      <td>2015</td>\n",
       "      <td>11</td>\n",
       "      <td></td>\n",
       "    </tr>\n",
       "    <tr>\n",
       "      <th>166</th>\n",
       "      <td>제주</td>\n",
       "      <td>전용면적 60㎡이하</td>\n",
       "      <td>2015</td>\n",
       "      <td>11</td>\n",
       "      <td></td>\n",
       "    </tr>\n",
       "    <tr>\n",
       "      <th>198</th>\n",
       "      <td>광주</td>\n",
       "      <td>전용면적 85㎡초과 102㎡이하</td>\n",
       "      <td>2015</td>\n",
       "      <td>12</td>\n",
       "      <td></td>\n",
       "    </tr>\n",
       "    <tr>\n",
       "      <th>199</th>\n",
       "      <td>광주</td>\n",
       "      <td>전용면적 102㎡초과</td>\n",
       "      <td>2015</td>\n",
       "      <td>12</td>\n",
       "      <td></td>\n",
       "    </tr>\n",
       "    <tr>\n",
       "      <th>204</th>\n",
       "      <td>대전</td>\n",
       "      <td>전용면적 102㎡초과</td>\n",
       "      <td>2015</td>\n",
       "      <td>12</td>\n",
       "      <td></td>\n",
       "    </tr>\n",
       "    <tr>\n",
       "      <th>251</th>\n",
       "      <td>제주</td>\n",
       "      <td>전용면적 60㎡이하</td>\n",
       "      <td>2015</td>\n",
       "      <td>12</td>\n",
       "      <td></td>\n",
       "    </tr>\n",
       "    <tr>\n",
       "      <th>283</th>\n",
       "      <td>광주</td>\n",
       "      <td>전용면적 85㎡초과 102㎡이하</td>\n",
       "      <td>2016</td>\n",
       "      <td>1</td>\n",
       "      <td></td>\n",
       "    </tr>\n",
       "    <tr>\n",
       "      <th>284</th>\n",
       "      <td>광주</td>\n",
       "      <td>전용면적 102㎡초과</td>\n",
       "      <td>2016</td>\n",
       "      <td>1</td>\n",
       "      <td></td>\n",
       "    </tr>\n",
       "    <tr>\n",
       "      <th>289</th>\n",
       "      <td>대전</td>\n",
       "      <td>전용면적 102㎡초과</td>\n",
       "      <td>2016</td>\n",
       "      <td>1</td>\n",
       "      <td></td>\n",
       "    </tr>\n",
       "    <tr>\n",
       "      <th>336</th>\n",
       "      <td>제주</td>\n",
       "      <td>전용면적 60㎡이하</td>\n",
       "      <td>2016</td>\n",
       "      <td>1</td>\n",
       "      <td></td>\n",
       "    </tr>\n",
       "  </tbody>\n",
       "</table>\n",
       "</div>"
      ],
      "text/plain": [
       "    지역명               규모구분    연도   월 분양가격\n",
       "28   광주  전용면적 85㎡초과 102㎡이하  2015  10     \n",
       "29   광주        전용면적 102㎡초과  2015  10     \n",
       "34   대전        전용면적 102㎡초과  2015  10     \n",
       "81   제주         전용면적 60㎡이하  2015  10     \n",
       "113  광주  전용면적 85㎡초과 102㎡이하  2015  11     \n",
       "114  광주        전용면적 102㎡초과  2015  11     \n",
       "119  대전        전용면적 102㎡초과  2015  11     \n",
       "166  제주         전용면적 60㎡이하  2015  11     \n",
       "198  광주  전용면적 85㎡초과 102㎡이하  2015  12     \n",
       "199  광주        전용면적 102㎡초과  2015  12     \n",
       "204  대전        전용면적 102㎡초과  2015  12     \n",
       "251  제주         전용면적 60㎡이하  2015  12     \n",
       "283  광주  전용면적 85㎡초과 102㎡이하  2016   1     \n",
       "284  광주        전용면적 102㎡초과  2016   1     \n",
       "289  대전        전용면적 102㎡초과  2016   1     \n",
       "336  제주         전용면적 60㎡이하  2016   1     "
      ]
     },
     "execution_count": 119,
     "metadata": {},
     "output_type": "execute_result"
    }
   ],
   "source": [
    "df.loc[df['분양가격'] == '  ']"
   ]
  },
  {
   "cell_type": "code",
   "execution_count": 150,
   "metadata": {},
   "outputs": [],
   "source": [
    "# 공백 제거 (문자열 양쪽 공백 제거)\n",
    "df['분양가격'] = df['분양가격'].str.strip()"
   ]
  },
  {
   "cell_type": "code",
   "execution_count": 151,
   "metadata": {},
   "outputs": [],
   "source": [
    "# 콤마 제거\n",
    "df['분양가격'] = df['분양가격'].str.replace(\",\", \"\")\n",
    "# - 제거\n",
    "df['분양가격'] = df['분양가격'].str.replace('-', '')\n",
    "# 빈 데이터 0으로 대체\n",
    "df.loc[df['분양가격'] == \"\", '분양가격'] = 0\n",
    "# 결측치 0으로 대체\n",
    "df['분양가격'].fillna(0, inplace=True)"
   ]
  },
  {
   "cell_type": "code",
   "execution_count": null,
   "metadata": {},
   "outputs": [],
   "source": [
    "df['분양가격'] = df['분양가격'].astype(int)"
   ]
  },
  {
   "cell_type": "code",
   "execution_count": 140,
   "metadata": {},
   "outputs": [
    {
     "name": "stdout",
     "output_type": "stream",
     "text": [
      "<class 'pandas.core.frame.DataFrame'>\n",
      "RangeIndex: 4505 entries, 0 to 4504\n",
      "Data columns (total 5 columns):\n",
      " #   Column  Non-Null Count  Dtype \n",
      "---  ------  --------------  ----- \n",
      " 0   지역명     4505 non-null   object\n",
      " 1   규모구분    4505 non-null   object\n",
      " 2   연도      4505 non-null   int64 \n",
      " 3   월       4505 non-null   int64 \n",
      " 4   분양가격    4505 non-null   int32 \n",
      "dtypes: int32(1), int64(2), object(2)\n",
      "memory usage: 158.5+ KB\n"
     ]
    }
   ],
   "source": [
    "df.info()"
   ]
  },
  {
   "cell_type": "code",
   "execution_count": 153,
   "metadata": {},
   "outputs": [
    {
     "data": {
      "text/plain": [
       "전체                   901\n",
       "전용면적 60㎡이하           901\n",
       "전용면적 60㎡초과 85㎡이하     901\n",
       "전용면적 85㎡초과 102㎡이하    901\n",
       "전용면적 102㎡초과          901\n",
       "Name: 규모구분, dtype: int64"
      ]
     },
     "execution_count": 153,
     "metadata": {},
     "output_type": "execute_result"
    }
   ],
   "source": [
    "# 규모구분에서 '전용면적'을 삭제\n",
    "df['규모구분'].value_counts()"
   ]
  },
  {
   "cell_type": "code",
   "execution_count": 154,
   "metadata": {},
   "outputs": [],
   "source": [
    "df['규모구분'] = df['규모구분'].str.replace('전용면적 ', '')"
   ]
  },
  {
   "cell_type": "code",
   "execution_count": 155,
   "metadata": {},
   "outputs": [
    {
     "data": {
      "text/html": [
       "<div>\n",
       "<style scoped>\n",
       "    .dataframe tbody tr th:only-of-type {\n",
       "        vertical-align: middle;\n",
       "    }\n",
       "\n",
       "    .dataframe tbody tr th {\n",
       "        vertical-align: top;\n",
       "    }\n",
       "\n",
       "    .dataframe thead th {\n",
       "        text-align: right;\n",
       "    }\n",
       "</style>\n",
       "<table border=\"1\" class=\"dataframe\">\n",
       "  <thead>\n",
       "    <tr style=\"text-align: right;\">\n",
       "      <th></th>\n",
       "      <th></th>\n",
       "      <th>연도</th>\n",
       "      <th>월</th>\n",
       "    </tr>\n",
       "    <tr>\n",
       "      <th>지역명</th>\n",
       "      <th>규모구분</th>\n",
       "      <th></th>\n",
       "      <th></th>\n",
       "    </tr>\n",
       "  </thead>\n",
       "  <tbody>\n",
       "    <tr>\n",
       "      <th rowspan=\"5\" valign=\"top\">강원</th>\n",
       "      <th>102㎡초과</th>\n",
       "      <td>2017.45283</td>\n",
       "      <td>6.566038</td>\n",
       "    </tr>\n",
       "    <tr>\n",
       "      <th>60㎡이하</th>\n",
       "      <td>2017.45283</td>\n",
       "      <td>6.566038</td>\n",
       "    </tr>\n",
       "    <tr>\n",
       "      <th>60㎡초과 85㎡이하</th>\n",
       "      <td>2017.45283</td>\n",
       "      <td>6.566038</td>\n",
       "    </tr>\n",
       "    <tr>\n",
       "      <th>85㎡초과 102㎡이하</th>\n",
       "      <td>2017.45283</td>\n",
       "      <td>6.566038</td>\n",
       "    </tr>\n",
       "    <tr>\n",
       "      <th>전체</th>\n",
       "      <td>2017.45283</td>\n",
       "      <td>6.566038</td>\n",
       "    </tr>\n",
       "    <tr>\n",
       "      <th>...</th>\n",
       "      <th>...</th>\n",
       "      <td>...</td>\n",
       "      <td>...</td>\n",
       "    </tr>\n",
       "    <tr>\n",
       "      <th rowspan=\"5\" valign=\"top\">충북</th>\n",
       "      <th>102㎡초과</th>\n",
       "      <td>2017.45283</td>\n",
       "      <td>6.566038</td>\n",
       "    </tr>\n",
       "    <tr>\n",
       "      <th>60㎡이하</th>\n",
       "      <td>2017.45283</td>\n",
       "      <td>6.566038</td>\n",
       "    </tr>\n",
       "    <tr>\n",
       "      <th>60㎡초과 85㎡이하</th>\n",
       "      <td>2017.45283</td>\n",
       "      <td>6.566038</td>\n",
       "    </tr>\n",
       "    <tr>\n",
       "      <th>85㎡초과 102㎡이하</th>\n",
       "      <td>2017.45283</td>\n",
       "      <td>6.566038</td>\n",
       "    </tr>\n",
       "    <tr>\n",
       "      <th>전체</th>\n",
       "      <td>2017.45283</td>\n",
       "      <td>6.566038</td>\n",
       "    </tr>\n",
       "  </tbody>\n",
       "</table>\n",
       "<p>85 rows × 2 columns</p>\n",
       "</div>"
      ],
      "text/plain": [
       "                          연도         월\n",
       "지역명 규모구분                              \n",
       "강원  102㎡초과        2017.45283  6.566038\n",
       "    60㎡이하         2017.45283  6.566038\n",
       "    60㎡초과 85㎡이하   2017.45283  6.566038\n",
       "    85㎡초과 102㎡이하  2017.45283  6.566038\n",
       "    전체            2017.45283  6.566038\n",
       "...                      ...       ...\n",
       "충북  102㎡초과        2017.45283  6.566038\n",
       "    60㎡이하         2017.45283  6.566038\n",
       "    60㎡초과 85㎡이하   2017.45283  6.566038\n",
       "    85㎡초과 102㎡이하  2017.45283  6.566038\n",
       "    전체            2017.45283  6.566038\n",
       "\n",
       "[85 rows x 2 columns]"
      ]
     },
     "execution_count": 155,
     "metadata": {},
     "output_type": "execute_result"
    }
   ],
   "source": [
    "df.groupby(['지역명', '규모구분']).mean([['분양가격']])"
   ]
  },
  {
   "cell_type": "code",
   "execution_count": null,
   "metadata": {},
   "outputs": [],
   "source": []
  }
 ],
 "metadata": {
  "kernelspec": {
   "display_name": "Python 3",
   "language": "python",
   "name": "python3"
  },
  "language_info": {
   "codemirror_mode": {
    "name": "ipython",
    "version": 3
   },
   "file_extension": ".py",
   "mimetype": "text/x-python",
   "name": "python",
   "nbconvert_exporter": "python",
   "pygments_lexer": "ipython3",
   "version": "3.11.2"
  },
  "orig_nbformat": 4
 },
 "nbformat": 4,
 "nbformat_minor": 2
}
