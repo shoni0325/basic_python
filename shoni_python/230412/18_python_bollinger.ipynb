{
 "cells": [
  {
   "attachments": {},
   "cell_type": "markdown",
   "metadata": {},
   "source": [
    "# 볼린저 밴드\n",
    "1. 파일 로드\n",
    "2. 결측치와 이상치를 제거\n",
    "3. 시간, 종가만의 데이터프레임을 생성\n",
    "4. 이동 평균선 : 데이터 20개의 평균을 구해서 새로운 파생변수 대입\n",
    "5. 상단 밴드 : 이동 평균선 + (2 * 데이터 20개의 표준편차)\n",
    "6. 하단 밴드 : 이동 평균선 - (2 * 데이터 20개의 표준편차)\n",
    "7. 구매 상태를 확인하는 파생변수 생성\n",
    "8. 구매 상태 입력\n",
    "9. 수익률 계산 (수익률, 누적수익률)"
   ]
  },
  {
   "cell_type": "code",
   "execution_count": 1,
   "metadata": {},
   "outputs": [],
   "source": [
    "import pandas as pd\n",
    "import numpy as np\n",
    "import matplotlib.pyplot as plt"
   ]
  },
  {
   "cell_type": "code",
   "execution_count": 2,
   "metadata": {},
   "outputs": [
    {
     "data": {
      "text/html": [
       "<div>\n",
       "<style scoped>\n",
       "    .dataframe tbody tr th:only-of-type {\n",
       "        vertical-align: middle;\n",
       "    }\n",
       "\n",
       "    .dataframe tbody tr th {\n",
       "        vertical-align: top;\n",
       "    }\n",
       "\n",
       "    .dataframe thead th {\n",
       "        text-align: right;\n",
       "    }\n",
       "</style>\n",
       "<table border=\"1\" class=\"dataframe\">\n",
       "  <thead>\n",
       "    <tr style=\"text-align: right;\">\n",
       "      <th></th>\n",
       "      <th>Open</th>\n",
       "      <th>High</th>\n",
       "      <th>Low</th>\n",
       "      <th>Close</th>\n",
       "      <th>Adj Close</th>\n",
       "      <th>Volume</th>\n",
       "    </tr>\n",
       "    <tr>\n",
       "      <th>Date</th>\n",
       "      <th></th>\n",
       "      <th></th>\n",
       "      <th></th>\n",
       "      <th></th>\n",
       "      <th></th>\n",
       "      <th></th>\n",
       "    </tr>\n",
       "  </thead>\n",
       "  <tbody>\n",
       "    <tr>\n",
       "      <th>2010-11-18</th>\n",
       "      <td>35.000000</td>\n",
       "      <td>35.990002</td>\n",
       "      <td>33.889999</td>\n",
       "      <td>34.189999</td>\n",
       "      <td>27.027195</td>\n",
       "      <td>457044300</td>\n",
       "    </tr>\n",
       "    <tr>\n",
       "      <th>2010-11-19</th>\n",
       "      <td>34.150002</td>\n",
       "      <td>34.500000</td>\n",
       "      <td>33.110001</td>\n",
       "      <td>34.259998</td>\n",
       "      <td>27.082527</td>\n",
       "      <td>107842000</td>\n",
       "    </tr>\n",
       "    <tr>\n",
       "      <th>2010-11-22</th>\n",
       "      <td>34.200001</td>\n",
       "      <td>34.480000</td>\n",
       "      <td>33.810001</td>\n",
       "      <td>34.080002</td>\n",
       "      <td>26.940243</td>\n",
       "      <td>36650600</td>\n",
       "    </tr>\n",
       "    <tr>\n",
       "      <th>2010-11-23</th>\n",
       "      <td>33.950001</td>\n",
       "      <td>33.990002</td>\n",
       "      <td>33.189999</td>\n",
       "      <td>33.250000</td>\n",
       "      <td>26.284130</td>\n",
       "      <td>31170200</td>\n",
       "    </tr>\n",
       "    <tr>\n",
       "      <th>2010-11-24</th>\n",
       "      <td>33.730000</td>\n",
       "      <td>33.799999</td>\n",
       "      <td>33.220001</td>\n",
       "      <td>33.480000</td>\n",
       "      <td>26.465942</td>\n",
       "      <td>26138000</td>\n",
       "    </tr>\n",
       "  </tbody>\n",
       "</table>\n",
       "</div>"
      ],
      "text/plain": [
       "                 Open       High        Low      Close  Adj Close     Volume\n",
       "Date                                                                        \n",
       "2010-11-18  35.000000  35.990002  33.889999  34.189999  27.027195  457044300\n",
       "2010-11-19  34.150002  34.500000  33.110001  34.259998  27.082527  107842000\n",
       "2010-11-22  34.200001  34.480000  33.810001  34.080002  26.940243   36650600\n",
       "2010-11-23  33.950001  33.990002  33.189999  33.250000  26.284130   31170200\n",
       "2010-11-24  33.730000  33.799999  33.220001  33.480000  26.465942   26138000"
      ]
     },
     "execution_count": 2,
     "metadata": {},
     "output_type": "execute_result"
    }
   ],
   "source": [
    "df = pd.read_csv(\"../csv/GM.csv\",  index_col = 'Date')\n",
    "df.head()"
   ]
  },
  {
   "cell_type": "code",
   "execution_count": 5,
   "metadata": {},
   "outputs": [
    {
     "name": "stderr",
     "output_type": "stream",
     "text": [
      "C:\\Users\\shoni\\AppData\\Local\\Temp\\ipykernel_7528\\2364376469.py:1: FutureWarning: In a future version of pandas all arguments of DataFrame.any and Series.any will be keyword-only.\n",
      "  df = df.loc[~df.isin((np.nan, np.inf, -np.inf)).any(1)]\n"
     ]
    },
    {
     "data": {
      "text/html": [
       "<div>\n",
       "<style scoped>\n",
       "    .dataframe tbody tr th:only-of-type {\n",
       "        vertical-align: middle;\n",
       "    }\n",
       "\n",
       "    .dataframe tbody tr th {\n",
       "        vertical-align: top;\n",
       "    }\n",
       "\n",
       "    .dataframe thead th {\n",
       "        text-align: right;\n",
       "    }\n",
       "</style>\n",
       "<table border=\"1\" class=\"dataframe\">\n",
       "  <thead>\n",
       "    <tr style=\"text-align: right;\">\n",
       "      <th></th>\n",
       "      <th>Open</th>\n",
       "      <th>High</th>\n",
       "      <th>Low</th>\n",
       "      <th>Close</th>\n",
       "      <th>Adj Close</th>\n",
       "      <th>Volume</th>\n",
       "    </tr>\n",
       "    <tr>\n",
       "      <th>Date</th>\n",
       "      <th></th>\n",
       "      <th></th>\n",
       "      <th></th>\n",
       "      <th></th>\n",
       "      <th></th>\n",
       "      <th></th>\n",
       "    </tr>\n",
       "  </thead>\n",
       "  <tbody>\n",
       "    <tr>\n",
       "      <th>2010-11-18</th>\n",
       "      <td>35.000000</td>\n",
       "      <td>35.990002</td>\n",
       "      <td>33.889999</td>\n",
       "      <td>34.189999</td>\n",
       "      <td>27.027195</td>\n",
       "      <td>457044300</td>\n",
       "    </tr>\n",
       "    <tr>\n",
       "      <th>2010-11-19</th>\n",
       "      <td>34.150002</td>\n",
       "      <td>34.500000</td>\n",
       "      <td>33.110001</td>\n",
       "      <td>34.259998</td>\n",
       "      <td>27.082527</td>\n",
       "      <td>107842000</td>\n",
       "    </tr>\n",
       "    <tr>\n",
       "      <th>2010-11-22</th>\n",
       "      <td>34.200001</td>\n",
       "      <td>34.480000</td>\n",
       "      <td>33.810001</td>\n",
       "      <td>34.080002</td>\n",
       "      <td>26.940243</td>\n",
       "      <td>36650600</td>\n",
       "    </tr>\n",
       "    <tr>\n",
       "      <th>2010-11-23</th>\n",
       "      <td>33.950001</td>\n",
       "      <td>33.990002</td>\n",
       "      <td>33.189999</td>\n",
       "      <td>33.250000</td>\n",
       "      <td>26.284130</td>\n",
       "      <td>31170200</td>\n",
       "    </tr>\n",
       "    <tr>\n",
       "      <th>2010-11-24</th>\n",
       "      <td>33.730000</td>\n",
       "      <td>33.799999</td>\n",
       "      <td>33.220001</td>\n",
       "      <td>33.480000</td>\n",
       "      <td>26.465942</td>\n",
       "      <td>26138000</td>\n",
       "    </tr>\n",
       "    <tr>\n",
       "      <th>...</th>\n",
       "      <td>...</td>\n",
       "      <td>...</td>\n",
       "      <td>...</td>\n",
       "      <td>...</td>\n",
       "      <td>...</td>\n",
       "      <td>...</td>\n",
       "    </tr>\n",
       "    <tr>\n",
       "      <th>2019-06-18</th>\n",
       "      <td>36.380001</td>\n",
       "      <td>36.779999</td>\n",
       "      <td>36.139999</td>\n",
       "      <td>36.700001</td>\n",
       "      <td>36.700001</td>\n",
       "      <td>8226900</td>\n",
       "    </tr>\n",
       "    <tr>\n",
       "      <th>2019-06-19</th>\n",
       "      <td>37.000000</td>\n",
       "      <td>37.470001</td>\n",
       "      <td>36.750000</td>\n",
       "      <td>36.779999</td>\n",
       "      <td>36.779999</td>\n",
       "      <td>10884800</td>\n",
       "    </tr>\n",
       "    <tr>\n",
       "      <th>2019-06-20</th>\n",
       "      <td>37.150002</td>\n",
       "      <td>37.310001</td>\n",
       "      <td>36.490002</td>\n",
       "      <td>36.959999</td>\n",
       "      <td>36.959999</td>\n",
       "      <td>8639700</td>\n",
       "    </tr>\n",
       "    <tr>\n",
       "      <th>2019-06-21</th>\n",
       "      <td>36.959999</td>\n",
       "      <td>37.099998</td>\n",
       "      <td>36.650002</td>\n",
       "      <td>36.919998</td>\n",
       "      <td>36.919998</td>\n",
       "      <td>13003900</td>\n",
       "    </tr>\n",
       "    <tr>\n",
       "      <th>2019-06-24</th>\n",
       "      <td>36.830002</td>\n",
       "      <td>37.049999</td>\n",
       "      <td>36.584202</td>\n",
       "      <td>36.814999</td>\n",
       "      <td>36.814999</td>\n",
       "      <td>2529729</td>\n",
       "    </tr>\n",
       "  </tbody>\n",
       "</table>\n",
       "<p>2162 rows × 6 columns</p>\n",
       "</div>"
      ],
      "text/plain": [
       "                 Open       High        Low      Close  Adj Close     Volume\n",
       "Date                                                                        \n",
       "2010-11-18  35.000000  35.990002  33.889999  34.189999  27.027195  457044300\n",
       "2010-11-19  34.150002  34.500000  33.110001  34.259998  27.082527  107842000\n",
       "2010-11-22  34.200001  34.480000  33.810001  34.080002  26.940243   36650600\n",
       "2010-11-23  33.950001  33.990002  33.189999  33.250000  26.284130   31170200\n",
       "2010-11-24  33.730000  33.799999  33.220001  33.480000  26.465942   26138000\n",
       "...               ...        ...        ...        ...        ...        ...\n",
       "2019-06-18  36.380001  36.779999  36.139999  36.700001  36.700001    8226900\n",
       "2019-06-19  37.000000  37.470001  36.750000  36.779999  36.779999   10884800\n",
       "2019-06-20  37.150002  37.310001  36.490002  36.959999  36.959999    8639700\n",
       "2019-06-21  36.959999  37.099998  36.650002  36.919998  36.919998   13003900\n",
       "2019-06-24  36.830002  37.049999  36.584202  36.814999  36.814999    2529729\n",
       "\n",
       "[2162 rows x 6 columns]"
      ]
     },
     "execution_count": 5,
     "metadata": {},
     "output_type": "execute_result"
    }
   ],
   "source": [
    "df = df.loc[~df.isin((np.nan, np.inf, -np.inf)).any(1)]\n",
    "df"
   ]
  },
  {
   "cell_type": "code",
   "execution_count": 7,
   "metadata": {},
   "outputs": [
    {
     "data": {
      "text/html": [
       "<div>\n",
       "<style scoped>\n",
       "    .dataframe tbody tr th:only-of-type {\n",
       "        vertical-align: middle;\n",
       "    }\n",
       "\n",
       "    .dataframe tbody tr th {\n",
       "        vertical-align: top;\n",
       "    }\n",
       "\n",
       "    .dataframe thead th {\n",
       "        text-align: right;\n",
       "    }\n",
       "</style>\n",
       "<table border=\"1\" class=\"dataframe\">\n",
       "  <thead>\n",
       "    <tr style=\"text-align: right;\">\n",
       "      <th></th>\n",
       "      <th>Adj Close</th>\n",
       "    </tr>\n",
       "    <tr>\n",
       "      <th>Date</th>\n",
       "      <th></th>\n",
       "    </tr>\n",
       "  </thead>\n",
       "  <tbody>\n",
       "    <tr>\n",
       "      <th>2010-11-18</th>\n",
       "      <td>27.027195</td>\n",
       "    </tr>\n",
       "  </tbody>\n",
       "</table>\n",
       "</div>"
      ],
      "text/plain": [
       "            Adj Close\n",
       "Date                 \n",
       "2010-11-18  27.027195"
      ]
     },
     "execution_count": 7,
     "metadata": {},
     "output_type": "execute_result"
    }
   ],
   "source": [
    "# 시간과 종가만의 데이터프레임 생성\n",
    "price_df = df[['Adj Close']]\n",
    "price_df.head(1)"
   ]
  },
  {
   "cell_type": "code",
   "execution_count": 9,
   "metadata": {},
   "outputs": [
    {
     "data": {
      "text/plain": [
       "Adj Close    26.922061\n",
       "dtype: float64"
      ]
     },
     "execution_count": 9,
     "metadata": {},
     "output_type": "execute_result"
    }
   ],
   "source": [
    "# 0번째 위치부터 20번 위치를 출력 , 평균\n",
    "price_df.iloc[[20]]['center'] = price_df.iloc[0:20].mean().value[0]"
   ]
  },
  {
   "cell_type": "code",
   "execution_count": 11,
   "metadata": {},
   "outputs": [
    {
     "name": "stderr",
     "output_type": "stream",
     "text": [
      "C:\\Users\\shoni\\AppData\\Local\\Temp\\ipykernel_7528\\1505368726.py:3: SettingWithCopyWarning: \n",
      "A value is trying to be set on a copy of a slice from a DataFrame.\n",
      "Try using .loc[row_indexer,col_indexer] = value instead\n",
      "\n",
      "See the caveats in the documentation: https://pandas.pydata.org/pandas-docs/stable/user_guide/indexing.html#returning-a-view-versus-a-copy\n",
      "  price_df['center'] = price_df['Adj Close'].rolling(20).mean()\n"
     ]
    }
   ],
   "source": [
    "# 이동 평균선 : 종가 데이터 20개의 평균값\n",
    "\n",
    "price_df['center'] = price_df['Adj Close'].rolling(20).mean()"
   ]
  },
  {
   "cell_type": "code",
   "execution_count": 16,
   "metadata": {},
   "outputs": [
    {
     "name": "stderr",
     "output_type": "stream",
     "text": [
      "C:\\Users\\shoni\\AppData\\Local\\Temp\\ipykernel_7528\\3657241582.py:4: SettingWithCopyWarning: \n",
      "A value is trying to be set on a copy of a slice from a DataFrame.\n",
      "Try using .loc[row_indexer,col_indexer] = value instead\n",
      "\n",
      "See the caveats in the documentation: https://pandas.pydata.org/pandas-docs/stable/user_guide/indexing.html#returning-a-view-versus-a-copy\n",
      "  price_df['ub'] = price_df['center'] + (2 * price_df['Adj Close'].rolling(20).std())\n",
      "C:\\Users\\shoni\\AppData\\Local\\Temp\\ipykernel_7528\\3657241582.py:7: SettingWithCopyWarning: \n",
      "A value is trying to be set on a copy of a slice from a DataFrame.\n",
      "Try using .loc[row_indexer,col_indexer] = value instead\n",
      "\n",
      "See the caveats in the documentation: https://pandas.pydata.org/pandas-docs/stable/user_guide/indexing.html#returning-a-view-versus-a-copy\n",
      "  price_df['lb'] = price_df['center'] - (2 * price_df['Adj Close'].rolling(20).std())\n"
     ]
    }
   ],
   "source": [
    "# ub, lb 두 개의 파생변수 생성\n",
    "\n",
    "# 상단밴드 생성\n",
    "price_df['ub'] = price_df['center'] + (2 * price_df['Adj Close'].rolling(20).std())\n",
    "\n",
    "# 하단밴드 생성\n",
    "price_df['lb'] = price_df['center'] - (2 * price_df['Adj Close'].rolling(20).std())\n"
   ]
  },
  {
   "cell_type": "code",
   "execution_count": 18,
   "metadata": {},
   "outputs": [
    {
     "data": {
      "text/html": [
       "<div>\n",
       "<style scoped>\n",
       "    .dataframe tbody tr th:only-of-type {\n",
       "        vertical-align: middle;\n",
       "    }\n",
       "\n",
       "    .dataframe tbody tr th {\n",
       "        vertical-align: top;\n",
       "    }\n",
       "\n",
       "    .dataframe thead th {\n",
       "        text-align: right;\n",
       "    }\n",
       "</style>\n",
       "<table border=\"1\" class=\"dataframe\">\n",
       "  <thead>\n",
       "    <tr style=\"text-align: right;\">\n",
       "      <th></th>\n",
       "      <th>Adj Close</th>\n",
       "      <th>center</th>\n",
       "      <th>ub</th>\n",
       "      <th>lb</th>\n",
       "    </tr>\n",
       "    <tr>\n",
       "      <th>Date</th>\n",
       "      <th></th>\n",
       "      <th></th>\n",
       "      <th></th>\n",
       "      <th></th>\n",
       "    </tr>\n",
       "  </thead>\n",
       "  <tbody>\n",
       "    <tr>\n",
       "      <th>2019-06-18</th>\n",
       "      <td>36.700001</td>\n",
       "      <td>35.249369</td>\n",
       "      <td>37.239697</td>\n",
       "      <td>33.259041</td>\n",
       "    </tr>\n",
       "    <tr>\n",
       "      <th>2019-06-19</th>\n",
       "      <td>36.779999</td>\n",
       "      <td>35.251553</td>\n",
       "      <td>37.248834</td>\n",
       "      <td>33.254271</td>\n",
       "    </tr>\n",
       "    <tr>\n",
       "      <th>2019-06-20</th>\n",
       "      <td>36.959999</td>\n",
       "      <td>35.340899</td>\n",
       "      <td>37.478352</td>\n",
       "      <td>33.203445</td>\n",
       "    </tr>\n",
       "    <tr>\n",
       "      <th>2019-06-21</th>\n",
       "      <td>36.919998</td>\n",
       "      <td>35.449022</td>\n",
       "      <td>37.678999</td>\n",
       "      <td>33.219046</td>\n",
       "    </tr>\n",
       "    <tr>\n",
       "      <th>2019-06-24</th>\n",
       "      <td>36.814999</td>\n",
       "      <td>35.552390</td>\n",
       "      <td>37.836478</td>\n",
       "      <td>33.268302</td>\n",
       "    </tr>\n",
       "  </tbody>\n",
       "</table>\n",
       "</div>"
      ],
      "text/plain": [
       "            Adj Close     center         ub         lb\n",
       "Date                                                  \n",
       "2019-06-18  36.700001  35.249369  37.239697  33.259041\n",
       "2019-06-19  36.779999  35.251553  37.248834  33.254271\n",
       "2019-06-20  36.959999  35.340899  37.478352  33.203445\n",
       "2019-06-21  36.919998  35.449022  37.678999  33.219046\n",
       "2019-06-24  36.814999  35.552390  37.836478  33.268302"
      ]
     },
     "execution_count": 18,
     "metadata": {},
     "output_type": "execute_result"
    }
   ],
   "source": [
    "price_df.tail()"
   ]
  },
  {
   "cell_type": "code",
   "execution_count": null,
   "metadata": {},
   "outputs": [],
   "source": [
    "# 주식 구매 후 ub 초과 시 판매 or lb 미만 시 재구입 이런 방식의 투자"
   ]
  },
  {
   "cell_type": "code",
   "execution_count": 22,
   "metadata": {},
   "outputs": [],
   "source": [
    "test_df = price_df.tail(100)"
   ]
  },
  {
   "cell_type": "code",
   "execution_count": 23,
   "metadata": {},
   "outputs": [
    {
     "data": {
      "text/plain": [
       "<Axes: xlabel='Date'>"
      ]
     },
     "execution_count": 23,
     "metadata": {},
     "output_type": "execute_result"
    },
    {
     "data": {
      "image/png": "[encoded data removed]",
      "text/plain": [
       "<Figure size 640x480 with 1 Axes>"
      ]
     },
     "metadata": {},
     "output_type": "display_data"
    }
   ],
   "source": [
    "test_df.drop('Adj Close', axis = 1).plot()"
   ]
  },
  {
   "cell_type": "code",
   "execution_count": 26,
   "metadata": {},
   "outputs": [
    {
     "data": {
      "text/html": [
       "<div>\n",
       "<style scoped>\n",
       "    .dataframe tbody tr th:only-of-type {\n",
       "        vertical-align: middle;\n",
       "    }\n",
       "\n",
       "    .dataframe tbody tr th {\n",
       "        vertical-align: top;\n",
       "    }\n",
       "\n",
       "    .dataframe thead th {\n",
       "        text-align: right;\n",
       "    }\n",
       "</style>\n",
       "<table border=\"1\" class=\"dataframe\">\n",
       "  <thead>\n",
       "    <tr style=\"text-align: right;\">\n",
       "      <th></th>\n",
       "      <th>Adj Close</th>\n",
       "      <th>center</th>\n",
       "      <th>ub</th>\n",
       "      <th>lb</th>\n",
       "    </tr>\n",
       "    <tr>\n",
       "      <th>Date</th>\n",
       "      <th></th>\n",
       "      <th></th>\n",
       "      <th></th>\n",
       "      <th></th>\n",
       "    </tr>\n",
       "  </thead>\n",
       "  <tbody>\n",
       "    <tr>\n",
       "      <th>2011-01-03</th>\n",
       "      <td>29.295927</td>\n",
       "      <td>27.433909</td>\n",
       "      <td>29.236157</td>\n",
       "      <td>25.631661</td>\n",
       "    </tr>\n",
       "    <tr>\n",
       "      <th>2011-01-04</th>\n",
       "      <td>29.959959</td>\n",
       "      <td>27.569085</td>\n",
       "      <td>29.692262</td>\n",
       "      <td>25.445907</td>\n",
       "    </tr>\n",
       "  </tbody>\n",
       "</table>\n",
       "</div>"
      ],
      "text/plain": [
       "            Adj Close     center         ub         lb\n",
       "Date                                                  \n",
       "2011-01-03  29.295927  27.433909  29.236157  25.631661\n",
       "2011-01-04  29.959959  27.569085  29.692262  25.445907"
      ]
     },
     "execution_count": 26,
     "metadata": {},
     "output_type": "execute_result"
    }
   ],
   "source": [
    "start = \"2011-01-02\"\n",
    "price_df2 = price_df.loc[start:]\n",
    "price_df2.head(2)"
   ]
  },
  {
   "cell_type": "code",
   "execution_count": 28,
   "metadata": {},
   "outputs": [
    {
     "name": "stderr",
     "output_type": "stream",
     "text": [
      "C:\\Users\\shoni\\AppData\\Local\\Temp\\ipykernel_7528\\769398054.py:2: SettingWithCopyWarning: \n",
      "A value is trying to be set on a copy of a slice from a DataFrame.\n",
      "Try using .loc[row_indexer,col_indexer] = value instead\n",
      "\n",
      "See the caveats in the documentation: https://pandas.pydata.org/pandas-docs/stable/user_guide/indexing.html#returning-a-view-versus-a-copy\n",
      "  price_df2['trade'] = \"\"\n"
     ]
    },
    {
     "data": {
      "text/html": [
       "<div>\n",
       "<style scoped>\n",
       "    .dataframe tbody tr th:only-of-type {\n",
       "        vertical-align: middle;\n",
       "    }\n",
       "\n",
       "    .dataframe tbody tr th {\n",
       "        vertical-align: top;\n",
       "    }\n",
       "\n",
       "    .dataframe thead th {\n",
       "        text-align: right;\n",
       "    }\n",
       "</style>\n",
       "<table border=\"1\" class=\"dataframe\">\n",
       "  <thead>\n",
       "    <tr style=\"text-align: right;\">\n",
       "      <th></th>\n",
       "      <th>Adj Close</th>\n",
       "      <th>center</th>\n",
       "      <th>ub</th>\n",
       "      <th>lb</th>\n",
       "      <th>trade</th>\n",
       "    </tr>\n",
       "    <tr>\n",
       "      <th>Date</th>\n",
       "      <th></th>\n",
       "      <th></th>\n",
       "      <th></th>\n",
       "      <th></th>\n",
       "      <th></th>\n",
       "    </tr>\n",
       "  </thead>\n",
       "  <tbody>\n",
       "    <tr>\n",
       "      <th>2011-01-03</th>\n",
       "      <td>29.295927</td>\n",
       "      <td>27.433909</td>\n",
       "      <td>29.236157</td>\n",
       "      <td>25.631661</td>\n",
       "      <td></td>\n",
       "    </tr>\n",
       "    <tr>\n",
       "      <th>2011-01-04</th>\n",
       "      <td>29.959959</td>\n",
       "      <td>27.569085</td>\n",
       "      <td>29.692262</td>\n",
       "      <td>25.445907</td>\n",
       "      <td></td>\n",
       "    </tr>\n",
       "  </tbody>\n",
       "</table>\n",
       "</div>"
      ],
      "text/plain": [
       "            Adj Close     center         ub         lb trade\n",
       "Date                                                        \n",
       "2011-01-03  29.295927  27.433909  29.236157  25.631661      \n",
       "2011-01-04  29.959959  27.569085  29.692262  25.445907      "
      ]
     },
     "execution_count": 28,
     "metadata": {},
     "output_type": "execute_result"
    }
   ],
   "source": [
    "# 거래 내역이라는 파생변수\n",
    "price_df2['trade'] = \"\"\n",
    "price_df2.head(2)"
   ]
  },
  {
   "attachments": {},
   "cell_type": "markdown",
   "metadata": {},
   "source": [
    "### 구매 내역 추가\n",
    "- 조건\n",
    "    1. 상단 밴드보다 종가가 높은 경우\n",
    "        - 현재 구매 상태이면\n",
    "            - 매도. trade = \"\"\n",
    "        - 구매 상태가 아니면\n",
    "            - 아무 행동도 하지 않는다. trade = \"\"\n",
    "\n",
    "    2. 하단 밴드보다 종가가 낮은 경우\n",
    "        - 현재 구매 상태이면\n",
    "            - 아무 행동도 하지 않는다. trade = 'buy'\n",
    "        - 구매 상태가 아니면\n",
    "            - 매수. trade = 'buy'\n",
    "\n",
    "    3. 하단 밴드와 상단 밴드 사이에 종가가 존재하는 경우\n",
    "        - 현재 구매 상태이면\n",
    "            - 아무 행동도 하지 않는다. trade = 'buy'\n",
    "        - 구매 상태가 아니면\n",
    "            - 아무 행동도 하지 않는다. trade = \"\""
   ]
  },
  {
   "cell_type": "code",
   "execution_count": 33,
   "metadata": {},
   "outputs": [
    {
     "name": "stderr",
     "output_type": "stream",
     "text": [
      "C:\\Users\\shoni\\AppData\\Local\\Temp\\ipykernel_7528\\3291406338.py:26: SettingWithCopyWarning: \n",
      "A value is trying to be set on a copy of a slice from a DataFrame.\n",
      "Try using .loc[row_indexer,col_indexer] = value instead\n",
      "\n",
      "See the caveats in the documentation: https://pandas.pydata.org/pandas-docs/stable/user_guide/indexing.html#returning-a-view-versus-a-copy\n",
      "  price_df2.loc[i, 'trande'] = ''\n"
     ]
    }
   ],
   "source": [
    "for i in price_df2.index :\n",
    "    # 상단 밴드보다 종가가 높은 경우\n",
    "    if price_df2.loc[i, 'Adj Close'] > price_df2.loc[i, 'ub'] :\n",
    "        # 현재 구매 상태이면\n",
    "        if price_df2.shift(1).loc[i, 'trade'] == 'buy' :\n",
    "            # 매도\n",
    "            price_df2.loc[i, 'trade'] = ''\n",
    "        else :\n",
    "            price_df2.loc[i, 'trade'] = ''\n",
    "\n",
    "    # 하단 밴드보다 종가가 낮은 경우\n",
    "    elif price_df2.loc[i, 'Adj Close'] < price_df2.loc[i, 'lb'] :\n",
    "        # 현재 구매 상태이면\n",
    "        if price_df2.shift(1).loc[i, 'trade'] == 'buy' :\n",
    "            # 구매 상태를 유지\n",
    "            price_df2.loc[i, 'trade'] = 'buy'\n",
    "        else :\n",
    "            price_df2.loc[i, 'trade'] = 'buy'\n",
    "\n",
    "    else :\n",
    "        # 현재 구매 상태이면\n",
    "        if price_df2.shift(1).loc[i, 'trade'] == 'buy' :\n",
    "            # 구매 상태를 유지\n",
    "            price_df2.loc[i, 'trade'] = 'buy'\n",
    "        else :\n",
    "            price_df2.loc[i, 'trade'] = ''"
   ]
  },
  {
   "cell_type": "code",
   "execution_count": 34,
   "metadata": {},
   "outputs": [
    {
     "data": {
      "text/plain": [
       "buy    1130\n",
       "       1002\n",
       "Name: trade, dtype: int64"
      ]
     },
     "execution_count": 34,
     "metadata": {},
     "output_type": "execute_result"
    }
   ],
   "source": [
    "price_df2['trade'].value_counts()"
   ]
  },
  {
   "attachments": {},
   "cell_type": "markdown",
   "metadata": {},
   "source": [
    "###  수익률 계산\n",
    "1. 구매한 날의 종가\n",
    "    - 전날 trade 항목의 값이 '' 이고 현재의 trade가 'buy'인 날의 종가\n",
    "2. 판매한 날의 종가\n",
    "    - 전날 trade 항목의 값이 'buy' 이고 현재의 trade가 ''인 날의 종가\n",
    "3. 수익률 계산\n",
    "    - (판매가격 - 구매가격) / 구매가격 + 1\n",
    "\n",
    "4. 구매 가격과 판매 가격을 초기화\n",
    "5. 여러 개의 수익률 발생\n",
    "6. 여러 개의 수익률로 누적 수익률 계산"
   ]
  },
  {
   "cell_type": "code",
   "execution_count": 37,
   "metadata": {},
   "outputs": [
    {
     "name": "stderr",
     "output_type": "stream",
     "text": [
      "C:\\Users\\shoni\\AppData\\Local\\Temp\\ipykernel_7528\\2396939451.py:2: SettingWithCopyWarning: \n",
      "A value is trying to be set on a copy of a slice from a DataFrame.\n",
      "Try using .loc[row_indexer,col_indexer] = value instead\n",
      "\n",
      "See the caveats in the documentation: https://pandas.pydata.org/pandas-docs/stable/user_guide/indexing.html#returning-a-view-versus-a-copy\n",
      "  price_df2['return'] = 1\n"
     ]
    },
    {
     "name": "stdout",
     "output_type": "stream",
     "text": [
      "진입일 : 2011-02-02 구매 가격 : 28.205038\n",
      "판매일 : 2011-04-05 판매 가격 : 25.983728 수익률 : 0.9212442117610337\n",
      "진입일 : 2011-06-02 구매 가격 : 23.398802\n",
      "판매일 : 2011-07-07 판매 가격 : 25.137901 수익률 : 1.0743242752342619\n",
      "진입일 : 2011-07-27 구매 가격 : 22.244669\n",
      "판매일 : 2012-01-05 판매 가격 : 17.525387 수익률 : 0.7878466072028314\n",
      "진입일 : 2012-03-06 구매 가격 : 19.43049\n",
      "판매일 : 2012-04-02 판매 가격 : 21.15378 수익률 : 1.0886899918633035\n",
      "진입일 : 2012-04-09 구매 가격 : 19.1301\n",
      "판매일 : 2012-08-07 판매 가격 : 16.142014 수익률 : 0.8438018619871303\n",
      "진입일 : 2013-02-20 구매 가격 : 21.42255\n",
      "판매일 : 2013-03-20 판매 가격 : 23.082602 수익률 : 1.0774908682673165\n",
      "진입일 : 2013-06-20 구매 가격 : 25.738686\n",
      "판매일 : 2013-09-10 판매 가격 : 29.248499 수익률 : 1.1363633326114626\n",
      "진입일 : 2013-10-03 구매 가격 : 27.896749\n",
      "판매일 : 2013-10-30 판매 가격 : 29.430317 수익률 : 1.0549730006173836\n",
      "진입일 : 2014-01-16 구매 가격 : 30.8295\n",
      "판매일 : 2014-03-05 판매 가격 : 29.659563 수익률 : 0.9620513793606772\n",
      "진입일 : 2014-03-13 구매 가격 : 26.948151\n",
      "판매일 : 2014-06-04 판매 가격 : 29.125372 수익률 : 1.080792964237138\n",
      "진입일 : 2014-07-24 구매 가격 : 28.74103\n",
      "판매일 : 2014-11-17 판매 가격 : 26.210114 수익률 : 0.9119406646177957\n",
      "진입일 : 2015-04-07 구매 가격 : 29.483093\n",
      "판매일 : 2015-05-28 판매 가격 : 30.027704 수익률 : 1.018471976464613\n",
      "진입일 : 2015-06-26 구매 가격 : 28.662933\n",
      "판매일 : 2015-10-07 판매 가격 : 27.893112 수익률 : 0.9731422810080183\n",
      "진입일 : 2015-12-11 구매 가격 : 29.159061\n",
      "판매일 : 2016-03-03 판매 가격 : 26.498234 수익률 : 0.9087478502822844\n",
      "진입일 : 2016-04-04 구매 가격 : 25.820202\n",
      "판매일 : 2016-04-21 판매 가격 : 28.203611 수익률 : 1.0923079145546577\n",
      "진입일 : 2016-06-03 구매 가격 : 25.561138\n",
      "판매일 : 2016-07-12 판매 가격 : 26.761086 수익률 : 1.0469442322951348\n",
      "진입일 : 2016-09-09 구매 가격 : 26.975273\n",
      "판매일 : 2016-09-22 판매 가격 : 28.665657 수익률 : 1.0626642036208493\n",
      "진입일 : 2017-02-07 구매 가격 : 31.401024\n",
      "판매일 : 2017-06-29 판매 가격 : 31.857004 수익률 : 1.0145211824939213\n",
      "진입일 : 2017-10-31 구매 가격 : 40.086929\n",
      "판매일 : 2018-01-04 판매 가격 : 41.543377 수익률 : 1.0363322418636758\n",
      "진입일 : 2018-02-02 구매 가격 : 38.588093\n",
      "판매일 : 2018-05-31 판매 가격 : 40.596851 수익률 : 1.0520564206165877\n",
      "진입일 : 2018-07-25 구매 가격 : 36.107922\n",
      "판매일 : 2018-10-31 판매 가격 : 35.473309 수익률 : 0.9824245493828196\n",
      "진입일 : 2018-12-21 구매 가격 : 32.309677\n",
      "판매일 : 2019-01-11 판매 가격 : 36.424309 수익률 : 1.1273498339212737\n",
      "진입일 : 2019-03-20 구매 가격 : 36.6077\n"
     ]
    }
   ],
   "source": [
    "rtn = 1.0\n",
    "price_df2['return'] = 1\n",
    "buy = 0.0\n",
    "sell = 0.0\n",
    "\n",
    "for i in price_df2.index :\n",
    "    # 구매가를 출력\n",
    "    if (price_df2.shift(1).loc[i, 'trade'] == '') and (price_df2.loc[i, 'trade'] == 'buy') :\n",
    "        buy = price_df2.loc[i, 'Adj Close']\n",
    "        print('진입일 :', i, '구매 가격 :', buy)\n",
    "    # 판매가를 출력\n",
    "    elif (price_df2.shift(1).loc[i, 'trade'] == 'buy') and (price_df2.loc[i, 'trade'] == '') :\n",
    "        sell = price_df2.loc[i, 'Adj Close']\n",
    "        rtn = (sell - buy) / buy + 1\n",
    "        price_df2.loc[i, 'return'] = rtn\n",
    "        print('판매일 :', i, '판매 가격 :', sell, '수익률 :', rtn)\n",
    "\n",
    "\n",
    "    # 구매가와 판매가를 초기화 (판매가 되고 나서)\n",
    "    if price_df2.loc[i, 'trade'] == '' :\n",
    "        buy = 0.0\n",
    "        sell = 0.0"
   ]
  },
  {
   "cell_type": "code",
   "execution_count": 39,
   "metadata": {},
   "outputs": [
    {
     "name": "stdout",
     "output_type": "stream",
     "text": [
      "누적 수익률 : 1.1764314536564138\n"
     ]
    },
    {
     "name": "stderr",
     "output_type": "stream",
     "text": [
      "C:\\Users\\shoni\\AppData\\Local\\Temp\\ipykernel_7528\\699351076.py:7: PerformanceWarning: DataFrame is highly fragmented.  This is usually the result of calling `frame.insert` many times, which has poor performance.  Consider joining all columns at once using pd.concat(axis=1) instead. To get a de-fragmented frame, use `newframe = frame.copy()`\n",
      "  price_df2.loc[i, 'acc_rtn'] = acc_rtn\n",
      "C:\\Users\\shoni\\AppData\\Local\\Temp\\ipykernel_7528\\699351076.py:7: SettingWithCopyWarning: \n",
      "A value is trying to be set on a copy of a slice from a DataFrame.\n",
      "Try using .loc[row_indexer,col_indexer] = value instead\n",
      "\n",
      "See the caveats in the documentation: https://pandas.pydata.org/pandas-docs/stable/user_guide/indexing.html#returning-a-view-versus-a-copy\n",
      "  price_df2.loc[i, 'acc_rtn'] = acc_rtn\n"
     ]
    }
   ],
   "source": [
    "# 누적 수익률\n",
    "acc_rtn = 1.0\n",
    "\n",
    "for i in price_df2.index :\n",
    "    rtn = price_df2.loc[i, 'return']\n",
    "    acc_rtn *= rtn\n",
    "    price_df2.loc[i, 'acc_rtn'] = acc_rtn\n",
    "\n",
    "print('누적 수익률 :', acc_rtn)"
   ]
  },
  {
   "cell_type": "code",
   "execution_count": null,
   "metadata": {},
   "outputs": [],
   "source": [
    "# 위에 수익률 구할 때는, 팔 때만 골라서 수익률을 구하기 때문에, 값이 없으면 값이 빈칸으로 나오므로 초기값을 정해줬다\n",
    "# rice_df2['return'] = 1\n",
    "\n",
    "# 누적 수익률을 구할 때는 모든 과정을 다 계산하므로, 컬럼에 초기값을 정해주지 않았다."
   ]
  },
  {
   "cell_type": "code",
   "execution_count": null,
   "metadata": {},
   "outputs": [],
   "source": []
  }
 ],
 "metadata": {
  "kernelspec": {
   "display_name": "Python 3",
   "language": "python",
   "name": "python3"
  },
  "language_info": {
   "codemirror_mode": {
    "name": "ipython",
    "version": 3
   },
   "file_extension": ".py",
   "mimetype": "text/x-python",
   "name": "python",
   "nbconvert_exporter": "python",
   "pygments_lexer": "ipython3",
   "version": "3.11.2"
  },
  "orig_nbformat": 4
 },
 "nbformat": 4,
 "nbformat_minor": 2
}
