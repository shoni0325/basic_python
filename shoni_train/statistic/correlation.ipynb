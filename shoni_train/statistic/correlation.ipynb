{
 "cells": [
  {
   "cell_type": "code",
   "execution_count": 2,
   "metadata": {},
   "outputs": [],
   "source": [
    "import pandas as pd\n",
    "import matplotlib as plt\n",
    "import numpy as np\n",
    "import seaborn as sns"
   ]
  },
  {
   "cell_type": "code",
   "execution_count": 3,
   "metadata": {},
   "outputs": [
    {
     "name": "stdout",
     "output_type": "stream",
     "text": [
      "Requirement already satisfied: scipy in c:\\users\\shoni\\appdata\\local\\programs\\python\\python311\\lib\\site-packages (1.10.1)\n",
      "Requirement already satisfied: numpy<1.27.0,>=1.19.5 in c:\\users\\shoni\\appdata\\local\\programs\\python\\python311\\lib\\site-packages (from scipy) (1.24.2)\n"
     ]
    }
   ],
   "source": [
    "!pip install scipy"
   ]
  },
  {
   "cell_type": "code",
   "execution_count": 4,
   "metadata": {},
   "outputs": [
    {
     "name": "stdout",
     "output_type": "stream",
     "text": [
      "Requirement already satisfied: yfinance in c:\\users\\shoni\\appdata\\local\\programs\\python\\python311\\lib\\site-packages (0.2.13)\n",
      "Requirement already satisfied: pandas>=1.3.0 in c:\\users\\shoni\\appdata\\local\\programs\\python\\python311\\lib\\site-packages (from yfinance) (1.5.3)\n",
      "Requirement already satisfied: numpy>=1.16.5 in c:\\users\\shoni\\appdata\\local\\programs\\python\\python311\\lib\\site-packages (from yfinance) (1.24.2)\n",
      "Requirement already satisfied: requests>=2.26 in c:\\users\\shoni\\appdata\\local\\programs\\python\\python311\\lib\\site-packages (from yfinance) (2.28.2)\n",
      "Requirement already satisfied: multitasking>=0.0.7 in c:\\users\\shoni\\appdata\\local\\programs\\python\\python311\\lib\\site-packages (from yfinance) (0.0.11)\n",
      "Requirement already satisfied: lxml>=4.9.1 in c:\\users\\shoni\\appdata\\local\\programs\\python\\python311\\lib\\site-packages (from yfinance) (4.9.2)\n",
      "Requirement already satisfied: appdirs>=1.4.4 in c:\\users\\shoni\\appdata\\local\\programs\\python\\python311\\lib\\site-packages (from yfinance) (1.4.4)\n",
      "Requirement already satisfied: pytz>=2022.5 in c:\\users\\shoni\\appdata\\local\\programs\\python\\python311\\lib\\site-packages (from yfinance) (2022.7.1)\n",
      "Requirement already satisfied: frozendict>=2.3.4 in c:\\users\\shoni\\appdata\\local\\programs\\python\\python311\\lib\\site-packages (from yfinance) (2.3.6)\n",
      "Requirement already satisfied: cryptography>=3.3.2 in c:\\users\\shoni\\appdata\\local\\programs\\python\\python311\\lib\\site-packages (from yfinance) (40.0.0)\n",
      "Requirement already satisfied: beautifulsoup4>=4.11.1 in c:\\users\\shoni\\appdata\\local\\programs\\python\\python311\\lib\\site-packages (from yfinance) (4.12.0)\n",
      "Requirement already satisfied: html5lib>=1.1 in c:\\users\\shoni\\appdata\\local\\programs\\python\\python311\\lib\\site-packages (from yfinance) (1.1)\n",
      "Requirement already satisfied: soupsieve>1.2 in c:\\users\\shoni\\appdata\\local\\programs\\python\\python311\\lib\\site-packages (from beautifulsoup4>=4.11.1->yfinance) (2.4)\n",
      "Requirement already satisfied: cffi>=1.12 in c:\\users\\shoni\\appdata\\local\\programs\\python\\python311\\lib\\site-packages (from cryptography>=3.3.2->yfinance) (1.15.1)\n",
      "Requirement already satisfied: six>=1.9 in c:\\users\\shoni\\appdata\\local\\programs\\python\\python311\\lib\\site-packages (from html5lib>=1.1->yfinance) (1.16.0)\n",
      "Requirement already satisfied: webencodings in c:\\users\\shoni\\appdata\\local\\programs\\python\\python311\\lib\\site-packages (from html5lib>=1.1->yfinance) (0.5.1)\n",
      "Requirement already satisfied: python-dateutil>=2.8.1 in c:\\users\\shoni\\appdata\\local\\programs\\python\\python311\\lib\\site-packages (from pandas>=1.3.0->yfinance) (2.8.2)\n",
      "Requirement already satisfied: charset-normalizer<4,>=2 in c:\\users\\shoni\\appdata\\local\\programs\\python\\python311\\lib\\site-packages (from requests>=2.26->yfinance) (3.1.0)\n",
      "Requirement already satisfied: idna<4,>=2.5 in c:\\users\\shoni\\appdata\\local\\programs\\python\\python311\\lib\\site-packages (from requests>=2.26->yfinance) (3.4)\n",
      "Requirement already satisfied: urllib3<1.27,>=1.21.1 in c:\\users\\shoni\\appdata\\local\\programs\\python\\python311\\lib\\site-packages (from requests>=2.26->yfinance) (1.26.15)\n",
      "Requirement already satisfied: certifi>=2017.4.17 in c:\\users\\shoni\\appdata\\local\\programs\\python\\python311\\lib\\site-packages (from requests>=2.26->yfinance) (2022.12.7)\n",
      "Requirement already satisfied: pycparser in c:\\users\\shoni\\appdata\\local\\programs\\python\\python311\\lib\\site-packages (from cffi>=1.12->cryptography>=3.3.2->yfinance) (2.21)\n"
     ]
    }
   ],
   "source": [
    "!pip install yfinance"
   ]
  },
  {
   "cell_type": "code",
   "execution_count": 5,
   "metadata": {},
   "outputs": [],
   "source": [
    "import scipy as sp\n",
    "import yfinance as yf"
   ]
  },
  {
   "cell_type": "code",
   "execution_count": 1,
   "metadata": {},
   "outputs": [],
   "source": [
    "import platform"
   ]
  },
  {
   "cell_type": "code",
   "execution_count": 2,
   "metadata": {},
   "outputs": [],
   "source": [
    "# 한글 폰트 출력 가능 코드\n",
    "import matplotlib.pyplot as plt\n",
    "if platform.system() == \"Darwin\" :  # Mac 인 경우\n",
    "    plt.rc('font', family = 'AppleGothic')\n",
    "else :\n",
    "    plt.rc('font', family = 'Malgun Gothic')"
   ]
  },
  {
   "attachments": {},
   "cell_type": "markdown",
   "metadata": {},
   "source": [
    "# 1. Simple data 형성"
   ]
  },
  {
   "cell_type": "code",
   "execution_count": 7,
   "metadata": {},
   "outputs": [
    {
     "name": "stdout",
     "output_type": "stream",
     "text": [
      "[29 46 49 49 25 19 25 17 42 34 28 12 20 31 41 12 49 20 39  9 15 30 17 27\n",
      " 12 31 34  3 17 16]\n",
      "[24 38 18 24 22 38 20 13 46 27 13 15 33 14 14 43  1 46 30 24 38 22 12 44\n",
      " 47  3  1 37 47 42]\n"
     ]
    }
   ],
   "source": [
    "# 랜덤한 데이터 형성 (시드 부여)\n",
    "np.random.seed(2022)     # seed 값을 2022로 고정\n",
    "\n",
    "x = np.random.randint(1, 50, 30)    # 1부터 50까지 범위에서 무작위로 30개의 정수 생성\n",
    "y = np.random.randint(1, 50, 30)\n",
    "\n",
    "print(x)\n",
    "print(y)"
   ]
  },
  {
   "attachments": {},
   "cell_type": "markdown",
   "metadata": {},
   "source": [
    "## 1-1. 데이터 시각화"
   ]
  },
  {
   "cell_type": "code",
   "execution_count": 3,
   "metadata": {},
   "outputs": [
    {
     "ename": "NameError",
     "evalue": "name 'pd' is not defined",
     "output_type": "error",
     "traceback": [
      "\u001b[1;31m---------------------------------------------------------------------------\u001b[0m",
      "\u001b[1;31mNameError\u001b[0m                                 Traceback (most recent call last)",
      "Cell \u001b[1;32mIn[3], line 2\u001b[0m\n\u001b[0;32m      1\u001b[0m \u001b[39m# 데이터 프레임 형성\u001b[39;00m\n\u001b[1;32m----> 2\u001b[0m sample \u001b[39m=\u001b[39m pd\u001b[39m.\u001b[39mDataFrame(\u001b[39mlist\u001b[39m(\u001b[39mzip\u001b[39m(x,y)), columns\u001b[39m=\u001b[39m[\u001b[39m'\u001b[39m\u001b[39mx\u001b[39m\u001b[39m'\u001b[39m, \u001b[39m'\u001b[39m\u001b[39my\u001b[39m\u001b[39m'\u001b[39m])   \u001b[39m# zip()으로 묶고 list()로 리스트 변환\u001b[39;00m\n\u001b[0;32m      4\u001b[0m \u001b[39m# 상관분석에 앞서 먼저 시각화를 이용하여 상관성 확인\u001b[39;00m\n\u001b[0;32m      6\u001b[0m sns\u001b[39m.\u001b[39mpairplot(sample, kind \u001b[39m=\u001b[39m\u001b[39m'\u001b[39m\u001b[39mreg\u001b[39m\u001b[39m'\u001b[39m)\n",
      "\u001b[1;31mNameError\u001b[0m: name 'pd' is not defined"
     ]
    }
   ],
   "source": [
    "# 데이터 프레임 형성\n",
    "sample = pd.DataFrame(list(zip(x,y)), columns=['x', 'y'])   # zip()으로 묶고 list()로 리스트 변환\n",
    "\n",
    "# 상관분석에 앞서 먼저 시각화를 이용하여 상관성 확인\n",
    "\n",
    "sns.pairplot(sample, kind ='reg')\n",
    "plt.show()"
   ]
  },
  {
   "attachments": {},
   "cell_type": "markdown",
   "metadata": {},
   "source": [
    "## 1-2. 상관분석"
   ]
  },
  {
   "attachments": {},
   "cell_type": "markdown",
   "metadata": {},
   "source": [
    "### A. 공분산"
   ]
  },
  {
   "cell_type": "code",
   "execution_count": 10,
   "metadata": {},
   "outputs": [
    {
     "name": "stdout",
     "output_type": "stream",
     "text": [
      "-61.68666666666666\n",
      "[[160.90666667 -61.68666667]\n",
      " [-61.68666667 200.91555556]]\n"
     ]
    }
   ],
   "source": [
    "# 하나씩 시행해보기\n",
    "\n",
    "# mu = mean (공통적으로 적용)\n",
    "mu_1 = np.sum(sample['x']/len(sample['x']))\n",
    "mu_2 = np.sum(sample['y']/len(sample['y']))\n",
    "\n",
    "# var = variance (잔차의 제곱합의 평균), 표준편차 = var의 제곱근\n",
    "var_1 = np.sum([pow(i - mu_1, 2) for i in sample['x']]) / (len(sample['x']))\n",
    "var_2 = np.sum([pow(i - mu_2, 2) for i in sample['y']]) / (len(sample['y']))\n",
    "std_1 = var_1 ** 0.5\n",
    "std_2 = var_2 ** 0.5\n",
    "\n",
    "# 공분산 (표본상관계수를 구하는 것이 아니고 모집단으로 도출하므로 자유도는 0으로 설정)\n",
    "covariance = sum((sample['x']-mu_1) * (sample['y'] - mu_2))/(len(sample['x']))\n",
    "\n",
    "# COV(X,Y) : 모집단인 경우 (numpy와 비교, 자유도 0 설정은 ddof=0)\n",
    "print(covariance)\n",
    "print(np.cov(sample['x'], sample['y'], ddof=0)) # 공분산 행렬의 (1,2), (2,1)이 cov(x,y)"
   ]
  },
  {
   "attachments": {},
   "cell_type": "markdown",
   "metadata": {},
   "source": [
    "B. 피어슨 상관계수"
   ]
  },
  {
   "cell_type": "code",
   "execution_count": 11,
   "metadata": {},
   "outputs": [
    {
     "name": "stdout",
     "output_type": "stream",
     "text": [
      "-0.34308166001608753\n"
     ]
    }
   ],
   "source": [
    "# 위의 공분산에서 이어짐\n",
    "correlation = covariance / (std_1 * std_2)\n",
    "\n",
    "# 피어슨 상관계수\n",
    "print(correlation)"
   ]
  },
  {
   "cell_type": "code",
   "execution_count": 12,
   "metadata": {},
   "outputs": [
    {
     "data": {
      "text/plain": [
       "PearsonRResult(statistic=-0.3430816600160875, pvalue=0.06344285692397392)"
      ]
     },
     "execution_count": 12,
     "metadata": {},
     "output_type": "execute_result"
    }
   ],
   "source": [
    "# 피어슨 상관계수를 구하는 다른 방법으로는 scipy라이브러리를 활용하는 법\n",
    "\n",
    "from scipy.stats import pearsonr\n",
    "# 귀무가설은 '두 데이터의 상관 계수가 0이다. (독립)'로 설정되어 있음.\n",
    "pearsonr(sample['x'], sample['y'])"
   ]
  },
  {
   "cell_type": "code",
   "execution_count": 14,
   "metadata": {},
   "outputs": [
    {
     "name": "stdout",
     "output_type": "stream",
     "text": [
      "1. 모집단으로 가정한 경우\n",
      "모집단 data 각각의 분산 값은 COV(X,X) = 160.907, COV(Y,Y) = 200.916(으)로 계산됩니다.\n",
      "모집단 data에 대한 공분산 값 : -61.687\n",
      "모집단 data에 대한 피어슨 상관계수 값 : -0.343\n",
      "Scipy로 구한 피어슨 상관계수는 -0.343입니다.\n",
      "Scipy는 각 데이터의 상관계수가 유의한지 판단합니다. 위 검정의 p-value는 6.343999999999999%로 두 데이터의 연관성이 없다는 귀무가설을 5%의 유의수준으로 기각할 수 없습니다.\n",
      "\n",
      "2. 표본집단으로 가정한 경우\n",
      "표본 data 각각의 추정된 분산 값은 COV(x,x) = 166.455, COV(y,y) = 207.844(으)로 계산됩니다.\n",
      "표본 data로 추정한 모집단의 공분산 값 : -63.814\n",
      "표본 data로 추정한 모집단의 피어슨 상관계수 값 : -0.343\n",
      "Scipy로 구한 피어슨 상관계수는 -0.343입니다.\n",
      "Scipy는 각 데이터의 상관계수가 유의한지 판단합니다. 위 검정의 p-value는 6.343999999999999%로 두 데이터의 연관성이 없다는 귀무가설을 5%의 유의수준으로 기각할 수 없습니다.\n"
     ]
    }
   ],
   "source": [
    "# 함수화 시행\n",
    "def cov_pearson(data1, data2, population = True):\n",
    "    # 라이브러리 호출\n",
    "    import numpy as np\n",
    "    from scipy.stats import pearsonr\n",
    "\n",
    "    # 변수를 설정하는 부분입니다.\n",
    "    mu_1 = np.sum(data1)/len(data1)\n",
    "    mu_2 = np.sum(data2)/len(data2)\n",
    "    var_1 = np.sum([pow(i - mu_1, 2) for i in data1]) / (len(data1))\n",
    "    var_2 = np.sum([pow(i - mu_2, 2) for i in data2]) / (len(data2))\n",
    "    std_1 = var_1 ** 0.5\n",
    "    std_2 = var_2 ** 0.5\n",
    "    \n",
    "    # 데이터가 모수인지 표본인지에 따라 자유도를 산입할지 여부를 결정합니다.\n",
    "    if population == True:\n",
    "        covariance = sum( (data1 - mu_1) * (data2 - mu_2) ) / (len(data1))\n",
    "        correlation = covariance / (std_1 * std_2)\n",
    "        print(f'모집단 data 각각의 분산 값은 COV(X,X) = {round(var_1,3)}, COV(Y,Y) = {round(var_2,3)}(으)로 계산됩니다.')\n",
    "        print(f'모집단 data에 대한 공분산 값 : {round(covariance,3)}')\n",
    "        print(f'모집단 data에 대한 피어슨 상관계수 값 : {round(correlation,3)}')\n",
    "    else:\n",
    "        var_1 = np.sum([pow(i - mu_1, 2) for i in data1]) / (len(data1) - 1)\n",
    "        var_2 = np.sum([pow(i - mu_2, 2) for i in data2]) / (len(data2) - 1)\n",
    "        std_1 = var_1 ** 0.5\n",
    "        std_2 = var_2 ** 0.5\n",
    "        covariance_ddof = sum( (data1 - mu_1) * (data2 - mu_2) ) / (len(data1) -1)\n",
    "        correlation_ddof = covariance_ddof / (std_1 * std_2)\n",
    "        print(f'표본 data 각각의 추정된 분산 값은 COV(x,x) = {round(var_1,3)}, COV(y,y) = {round(var_2,3)}(으)로 계산됩니다.')\n",
    "        print(f'표본 data로 추정한 모집단의 공분산 값 : {round(covariance_ddof,3)}')\n",
    "        print(f'표본 data로 추정한 모집단의 피어슨 상관계수 값 : {round(correlation_ddof,3)}')\n",
    "\n",
    "    # Scipy 라이브러리에서 구한 피어슨 계수를 통해 위에서 확인한 상관계수 값을 검증해봅니다.\n",
    "    print(f'Scipy로 구한 피어슨 상관계수는 {round(pearsonr(data1, data2)[0], 3)}입니다.')\n",
    "    \n",
    "    # Scipy에서 제공하는 피어슨 검정의 P값을 이용하여 데이터 간의 독립성에 대한 검정 결과 해석을 출력합니다.\n",
    "    if pearsonr(data1, data2)[1] < 0.05:\n",
    "        print(f'Scipy는 각 데이터의 상관계수가 유의한지 판단합니다. 위 검정의 p-value는 {round(pearsonr(data1, data2)[1],5) * 100}%로 두 데이터의 연관성이 없다는 귀무가설을 5%의 유의수준으로 기각할 수 있습니다.')\n",
    "    else:\n",
    "        print(f'Scipy는 각 데이터의 상관계수가 유의한지 판단합니다. 위 검정의 p-value는 {round(pearsonr(data1, data2)[1],5) * 100}%로 두 데이터의 연관성이 없다는 귀무가설을 5%의 유의수준으로 기각할 수 없습니다.')\n",
    "\n",
    "print('1. 모집단으로 가정한 경우')\n",
    "cov_pearson(sample['x'], sample['y'], True)\n",
    "\n",
    "print('\\n2. 표본집단으로 가정한 경우')\n",
    "cov_pearson(sample['x'], sample['y'], False)"
   ]
  },
  {
   "cell_type": "code",
   "execution_count": null,
   "metadata": {},
   "outputs": [],
   "source": []
  }
 ],
 "metadata": {
  "kernelspec": {
   "display_name": "Python 3",
   "language": "python",
   "name": "python3"
  },
  "language_info": {
   "codemirror_mode": {
    "name": "ipython",
    "version": 3
   },
   "file_extension": ".py",
   "mimetype": "text/x-python",
   "name": "python",
   "nbconvert_exporter": "python",
   "pygments_lexer": "ipython3",
   "version": "3.11.2"
  },
  "orig_nbformat": 4
 },
 "nbformat": 4,
 "nbformat_minor": 2
}
