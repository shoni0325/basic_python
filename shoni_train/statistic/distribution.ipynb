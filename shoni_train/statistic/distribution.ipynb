{
 "cells": [
  {
   "attachments": {},
   "cell_type": "markdown",
   "metadata": {},
   "source": [
    "#  1. 이산확률분포\n",
    "A. 이항분호"
   ]
  },
  {
   "cell_type": "code",
   "execution_count": 2,
   "metadata": {},
   "outputs": [],
   "source": [
    "import numpy as np"
   ]
  },
  {
   "cell_type": "code",
   "execution_count": 3,
   "metadata": {},
   "outputs": [],
   "source": [
    "import matplotlib.pyplot as plt"
   ]
  },
  {
   "cell_type": "code",
   "execution_count": 4,
   "metadata": {},
   "outputs": [],
   "source": [
    "from math import factorial"
   ]
  },
  {
   "cell_type": "code",
   "execution_count": 5,
   "metadata": {},
   "outputs": [],
   "source": [
    "# Probability density of the binomial distribution\n",
    "# P만큼의 성공확률을 갖는 n회 시행에 대해서 K회가 성공할 확률 도출\n",
    "def bin_dist(k, n, p) :\n",
    "    nck = factorial(n) / (factorial(k) * factorial(n - k))\n",
    "    proba_df = nck * pow(p, k) * pow(1-p, n-k)\n",
    "    # pow는 제곱연산\n",
    "    # ex) pow(2, 3)은 2**3 = 8\n",
    "    return proba_df"
   ]
  },
  {
   "cell_type": "code",
   "execution_count": 6,
   "metadata": {},
   "outputs": [
    {
     "name": "stdout",
     "output_type": "stream",
     "text": [
      "[ 0  1  2  3  4  5  6  7  8  9 10 11 12 13 14 15]\n"
     ]
    }
   ],
   "source": [
    "# 이항분포 형성\n",
    "# 변수 설정\n",
    "n = 15\n",
    "p = 0.3\n",
    "\n",
    "# x는 0 ~ 15의 값을 가지는 리스트\n",
    "x = np.arange(16)       # Q. 16?? 0~15 16개라서?\n",
    "print(x)"
   ]
  },
  {
   "cell_type": "code",
   "execution_count": null,
   "metadata": {},
   "outputs": [],
   "source": [
    "# 이항분포 확률을 나타내는 리스트로\n",
    "# 성공이 0.3의 확률일 때, 15번 시행한 경우, k번 성공할 확률을 리스트로 나타냄\n",
    "proba_df1 = np.array(bin_dist(k, n, p)for k in range(16))   # Q. bin_dist 함수 실행한 array?\n",
    "print(prova)"
   ]
  }
 ],
 "metadata": {
  "kernelspec": {
   "display_name": "Python 3",
   "language": "python",
   "name": "python3"
  },
  "language_info": {
   "codemirror_mode": {
    "name": "ipython",
    "version": 3
   },
   "file_extension": ".py",
   "mimetype": "text/x-python",
   "name": "python",
   "nbconvert_exporter": "python",
   "pygments_lexer": "ipython3",
   "version": "3.11.2"
  },
  "orig_nbformat": 4
 },
 "nbformat": 4,
 "nbformat_minor": 2
}
