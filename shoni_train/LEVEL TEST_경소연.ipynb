{
 "cells": [
  {
   "cell_type": "markdown",
   "metadata": {},
   "source": [
    "### 1번 문제\n",
    "> For문을 이용하여 구구단을 출력하라\n",
    "    2단부터 9단까지 구구단을 print를 이용하여 출력하라."
   ]
  },
  {
   "cell_type": "code",
   "execution_count": 1,
   "metadata": {},
   "outputs": [
    {
     "name": "stdout",
     "output_type": "stream",
     "text": [
      "2 * 1 = 2\n",
      "2 * 2 = 4\n",
      "2 * 3 = 6\n",
      "2 * 4 = 8\n",
      "2 * 5 = 10\n",
      "2 * 6 = 12\n",
      "2 * 7 = 14\n",
      "2 * 8 = 16\n",
      "2 * 9 = 18\n",
      "3 * 1 = 3\n",
      "3 * 2 = 6\n",
      "3 * 3 = 9\n",
      "3 * 4 = 12\n",
      "3 * 5 = 15\n",
      "3 * 6 = 18\n",
      "3 * 7 = 21\n",
      "3 * 8 = 24\n",
      "3 * 9 = 27\n",
      "4 * 1 = 4\n",
      "4 * 2 = 8\n",
      "4 * 3 = 12\n",
      "4 * 4 = 16\n",
      "4 * 5 = 20\n",
      "4 * 6 = 24\n",
      "4 * 7 = 28\n",
      "4 * 8 = 32\n",
      "4 * 9 = 36\n",
      "5 * 1 = 5\n",
      "5 * 2 = 10\n",
      "5 * 3 = 15\n",
      "5 * 4 = 20\n",
      "5 * 5 = 25\n",
      "5 * 6 = 30\n",
      "5 * 7 = 35\n",
      "5 * 8 = 40\n",
      "5 * 9 = 45\n",
      "6 * 1 = 6\n",
      "6 * 2 = 12\n",
      "6 * 3 = 18\n",
      "6 * 4 = 24\n",
      "6 * 5 = 30\n",
      "6 * 6 = 36\n",
      "6 * 7 = 42\n",
      "6 * 8 = 48\n",
      "6 * 9 = 54\n",
      "7 * 1 = 7\n",
      "7 * 2 = 14\n",
      "7 * 3 = 21\n",
      "7 * 4 = 28\n",
      "7 * 5 = 35\n",
      "7 * 6 = 42\n",
      "7 * 7 = 49\n",
      "7 * 8 = 56\n",
      "7 * 9 = 63\n",
      "8 * 1 = 8\n",
      "8 * 2 = 16\n",
      "8 * 3 = 24\n",
      "8 * 4 = 32\n",
      "8 * 5 = 40\n",
      "8 * 6 = 48\n",
      "8 * 7 = 56\n",
      "8 * 8 = 64\n",
      "8 * 9 = 72\n",
      "9 * 1 = 9\n",
      "9 * 2 = 18\n",
      "9 * 3 = 27\n",
      "9 * 4 = 36\n",
      "9 * 5 = 45\n",
      "9 * 6 = 54\n",
      "9 * 7 = 63\n",
      "9 * 8 = 72\n",
      "9 * 9 = 81\n"
     ]
    }
   ],
   "source": [
    "for i in range(2, 10, 1) :\n",
    "    for j in range(1, 10, 1) :\n",
    "        k = i*j\n",
    "        print(i, '*', j, '=', k )"
   ]
  },
  {
   "attachments": {},
   "cell_type": "markdown",
   "metadata": {},
   "source": [
    "### 2번 문제\n",
    "> 2부터 50까지 소수를 리스트의 형태로 출력하시오\n",
    "1. 첫번째 반복문에서는 2부터 50까지 반복을 하는 반복문을 구성하시오\n",
    "2. 소수는 1과 자기 자신 외에는 나누어지지 않는 수이다 \n",
    "3. 반복문 안에 bool의 형태의 데이터를 만들어서 True라 지정한다. \n",
    "4. 두번째 반복문을 이용하여 2부터 시작하여 (자기 자신 -1)까지 나누어 나머지 값이 0이면 3번 과정에서 만든 변수를 False로 변경한다.\n",
    "5. bool 형태의 변수를 조건문을 사용하여 True인 경우 리스트에 추가한다."
   ]
  },
  {
   "cell_type": "code",
   "execution_count": 2,
   "metadata": {},
   "outputs": [
    {
     "name": "stdout",
     "output_type": "stream",
     "text": [
      "[2, 3, 5, 7, 11, 13, 17, 19, 23, 29, 31, 37, 41, 43, 47]\n"
     ]
    }
   ],
   "source": [
    "# 비어있는 리스트 생성\n",
    "_list = []\n",
    "# 첫번째 반복문\n",
    "for i in range(2, 51, 1) :\n",
    "    # bool 형 데이터 지정\n",
    "    data = True\n",
    "    # 두번째 반복문\n",
    "    for j in range(2, i) :\n",
    "        if i % j == 0 :\n",
    "            data = False\n",
    "    # 조건문을 사용하여 True인 경우 리스트에 추가\n",
    "    if data == True :\n",
    "        _list.append(i)\n",
    "\n",
    "print(_list)"
   ]
  },
  {
   "cell_type": "markdown",
   "metadata": {},
   "source": [
    "### 3번 문제\n",
    "> Pandas를 이용하여 다음과 같은 데이터프레임을 만들고 데이터프레임을 수정하라.\n",
    "\n",
    "|   | 0 | 1 |  2 |\n",
    "|:-:|:-:|:-:|:--:|\n",
    "| 0 | 1 | 2 |  3 |\n",
    "| 1 | 7 | 8 |  9 |\n",
    "| 2 | 4 | 5 |  6 |\n",
    "| 3 | 3 | 5 | 10 |\n",
    "\n",
    "1. 컬럼의 이름을 A, B, C로 변경\n",
    "2. D라는 새로운 컬럼에 shift 함수를 이용하여 C 컬럼의 차를 D 컬럼에 생성(NaN값인 경우에는 0으로 대체)\n",
    "3. A 컬럼을 기준으로 오름차순 정렬\n",
    "4. 인덱스의 값을 새로 지정(기존의 인덱스는 삭제)\n",
    "5. 이 모든 과정은 원본의 데이터를 수정 "
   ]
  },
  {
   "cell_type": "code",
   "execution_count": 3,
   "metadata": {},
   "outputs": [],
   "source": [
    "import pandas as pd"
   ]
  },
  {
   "cell_type": "code",
   "execution_count": 4,
   "metadata": {},
   "outputs": [
    {
     "name": "stdout",
     "output_type": "stream",
     "text": [
      "   0  1   2\n",
      "0  1  2   3\n",
      "1  7  8   9\n",
      "2  4  5   6\n",
      "3  3  5  10\n"
     ]
    }
   ],
   "source": [
    "# 데이터프레임생성\n",
    "data = pd.DataFrame({\n",
    "    '0' : [1,7,4,3],\n",
    "    '1' : [2,8,5,5],\n",
    "    '2' : [3,9,6,10]\n",
    "\n",
    "})\n",
    "\n",
    "print(data)"
   ]
  },
  {
   "cell_type": "code",
   "execution_count": 5,
   "metadata": {},
   "outputs": [
    {
     "name": "stdout",
     "output_type": "stream",
     "text": [
      "   A  B   C\n",
      "0  1  2   3\n",
      "1  7  8   9\n",
      "2  4  5   6\n",
      "3  3  5  10\n"
     ]
    }
   ],
   "source": [
    "# 컬럼 이름 변경\n",
    "data.columns = ['A', 'B', 'C']\n",
    "print(data)"
   ]
  },
  {
   "cell_type": "code",
   "execution_count": 6,
   "metadata": {},
   "outputs": [
    {
     "name": "stdout",
     "output_type": "stream",
     "text": [
      "   A  B   C    D\n",
      "0  1  2   3  0.0\n",
      "1  7  8   9  6.0\n",
      "2  4  5   6 -3.0\n",
      "3  3  5  10  4.0\n"
     ]
    }
   ],
   "source": [
    "# D 컬럼 생성\n",
    "# shift 함수 이용하여 c컬럼의 차를 D컬럼에 생성(결측치 0으로 대체)\n",
    "data['D'] = data['C'] - data['C'].shift(1)\n",
    "data['D'] = data['D'].fillna(0)\n",
    "print(data)"
   ]
  },
  {
   "cell_type": "code",
   "execution_count": 7,
   "metadata": {},
   "outputs": [
    {
     "name": "stdout",
     "output_type": "stream",
     "text": [
      "   A  B   C    D\n",
      "0  1  2   3  0.0\n",
      "3  3  5  10  4.0\n",
      "2  4  5   6 -3.0\n",
      "1  7  8   9  6.0\n"
     ]
    }
   ],
   "source": [
    "# A컬럼을 기준으로 오름차순 정렬\n",
    "data = data.sort_values('A', ascending = True)\n",
    "print(data)"
   ]
  },
  {
   "cell_type": "code",
   "execution_count": 8,
   "metadata": {},
   "outputs": [
    {
     "name": "stdout",
     "output_type": "stream",
     "text": [
      "   index  A  B   C    D\n",
      "0      0  1  2   3  0.0\n",
      "1      3  3  5  10  4.0\n",
      "2      2  4  5   6 -3.0\n",
      "3      1  7  8   9  6.0\n"
     ]
    }
   ],
   "source": [
    "# 인덱스 값 새로 지정\n",
    "data = data.reset_index()\n",
    "print(data)"
   ]
  },
  {
   "cell_type": "code",
   "execution_count": 9,
   "metadata": {},
   "outputs": [
    {
     "name": "stdout",
     "output_type": "stream",
     "text": [
      "   A  B   C    D\n",
      "0  1  2   3  0.0\n",
      "1  3  5  10  4.0\n",
      "2  4  5   6 -3.0\n",
      "3  7  8   9  6.0\n"
     ]
    }
   ],
   "source": [
    "# 기존 인덱스 삭제\n",
    "data.drop('index', axis = 1, inplace = True)\n",
    "print(data)"
   ]
  },
  {
   "attachments": {},
   "cell_type": "markdown",
   "metadata": {},
   "source": [
    "### 4번 문제\n",
    "> 2014,2015,2016 csv파일을 로드하여 데이터를 수정하라.\n",
    "\n",
    "1. 3개의 데이터프레임을 결합하시오 (유니언 결합)\n",
    "2. 구분 컬럼의 값을 datetime의 형태로 변환하라. \n",
    "3. 구분 컬럼에서 년도만 따로 출력하여 파생변수 년도를 생성하라.\n",
    "4. 년도 별 평균 사망자, 총 사망자를 출력하라. \n",
    "5. 년도 별 사고 대비 사망율( 사망(명) / 사고(건))을 출력하라."
   ]
  },
  {
   "cell_type": "code",
   "execution_count": 10,
   "metadata": {},
   "outputs": [],
   "source": [
    "df2014 = pd.read_csv(\"./csv/2014.csv\", encoding = \"euc_kr\")\n",
    "df2015 = pd.read_csv(\"./csv/2015.csv\", encoding = \"euc_kr\")\n",
    "df2016 = pd.read_csv(\"./csv/2016.csv\", encoding = \"euc_kr\")"
   ]
  },
  {
   "cell_type": "code",
   "execution_count": 11,
   "metadata": {},
   "outputs": [],
   "source": [
    "# 3개의 데이터프레임 유니언 결합\n",
    "df = pd.concat([df2014, df2015, df2016], axis=0).reset_index(drop=True)"
   ]
  },
  {
   "cell_type": "code",
   "execution_count": 12,
   "metadata": {},
   "outputs": [],
   "source": [
    "# '구분' 컬럼 datetime으로 변환\n",
    "df['구분'] = pd.to_datetime(df['구분'], format = '%Y년%m월')"
   ]
  },
  {
   "cell_type": "code",
   "execution_count": 13,
   "metadata": {},
   "outputs": [],
   "source": [
    "from datetime import datetime"
   ]
  },
  {
   "cell_type": "code",
   "execution_count": 14,
   "metadata": {},
   "outputs": [],
   "source": [
    "# '구분' 컬럼에서 년도만 따로 출력하여 파생변수 '년도' 생성\n",
    "df['년도'] = list(map(lambda x : datetime.strftime(x, '%Y'), df['구분']))\n"
   ]
  },
  {
   "cell_type": "code",
   "execution_count": 15,
   "metadata": {},
   "outputs": [
    {
     "data": {
      "text/html": [
       "<div>\n",
       "<style scoped>\n",
       "    .dataframe tbody tr th:only-of-type {\n",
       "        vertical-align: middle;\n",
       "    }\n",
       "\n",
       "    .dataframe tbody tr th {\n",
       "        vertical-align: top;\n",
       "    }\n",
       "\n",
       "    .dataframe thead th {\n",
       "        text-align: right;\n",
       "    }\n",
       "</style>\n",
       "<table border=\"1\" class=\"dataframe\">\n",
       "  <thead>\n",
       "    <tr style=\"text-align: right;\">\n",
       "      <th></th>\n",
       "      <th>구분</th>\n",
       "      <th>사고(건)</th>\n",
       "      <th>사망(명)</th>\n",
       "      <th>부상(명)</th>\n",
       "      <th>년도</th>\n",
       "    </tr>\n",
       "  </thead>\n",
       "  <tbody>\n",
       "    <tr>\n",
       "      <th>0</th>\n",
       "      <td>2014-01-01</td>\n",
       "      <td>169</td>\n",
       "      <td>7</td>\n",
       "      <td>347</td>\n",
       "      <td>2014</td>\n",
       "    </tr>\n",
       "    <tr>\n",
       "      <th>1</th>\n",
       "      <td>2014-02-01</td>\n",
       "      <td>145</td>\n",
       "      <td>3</td>\n",
       "      <td>268</td>\n",
       "      <td>2014</td>\n",
       "    </tr>\n",
       "    <tr>\n",
       "      <th>2</th>\n",
       "      <td>2014-03-01</td>\n",
       "      <td>206</td>\n",
       "      <td>12</td>\n",
       "      <td>358</td>\n",
       "      <td>2014</td>\n",
       "    </tr>\n",
       "  </tbody>\n",
       "</table>\n",
       "</div>"
      ],
      "text/plain": [
       "          구분  사고(건)  사망(명)  부상(명)    년도\n",
       "0 2014-01-01    169      7    347  2014\n",
       "1 2014-02-01    145      3    268  2014\n",
       "2 2014-03-01    206     12    358  2014"
      ]
     },
     "execution_count": 15,
     "metadata": {},
     "output_type": "execute_result"
    }
   ],
   "source": [
    "df.head(3)"
   ]
  },
  {
   "cell_type": "code",
   "execution_count": 16,
   "metadata": {},
   "outputs": [
    {
     "name": "stdout",
     "output_type": "stream",
     "text": [
      "년도\n",
      "2014    10.833333\n",
      "2015     9.000000\n",
      "2016     8.166667\n",
      "Name: 사망(명), dtype: float64\n"
     ]
    }
   ],
   "source": [
    "# 년도 별 평균 사망자 출력\n",
    "d_mean = df.groupby('년도')['사망(명)'].mean()\n",
    "print(d_mean)"
   ]
  },
  {
   "cell_type": "code",
   "execution_count": 17,
   "metadata": {},
   "outputs": [
    {
     "name": "stdout",
     "output_type": "stream",
     "text": [
      "년도\n",
      "2014    130\n",
      "2015    108\n",
      "2016     98\n",
      "Name: 사망(명), dtype: int64\n"
     ]
    }
   ],
   "source": [
    "# 년도 별 총 사망자 출력\n",
    "d_sum = df.groupby('년도')['사망(명)'].sum()\n",
    "print(d_sum)"
   ]
  },
  {
   "cell_type": "code",
   "execution_count": 18,
   "metadata": {},
   "outputs": [
    {
     "name": "stdout",
     "output_type": "stream",
     "text": [
      "년도\n",
      "2014    0.053586\n",
      "2015    0.039985\n",
      "2016    0.040279\n",
      "dtype: float64\n"
     ]
    }
   ],
   "source": [
    "# 년도 별 사고 대비 사망율( 사망(명) / 사고(건))을 출력\n",
    "# 년도 별 총 사고\n",
    "a_sum = df.groupby('년도')['사고(건)'].sum()\n",
    "# 총사망 / 총사고\n",
    "da_rate = d_sum / a_sum\n",
    "print(da_rate)"
   ]
  },
  {
   "attachments": {},
   "cell_type": "markdown",
   "metadata": {},
   "source": [
    "### 5번 문제\n",
    "> 세종시.csv 파일을 pandas를 이용하여 read 후 데이터프레임을 수정하라.\n",
    "\n",
    "1. pandas를 이용하여 csv 파일을 로드한다. (주소는 상대경로로 지정)\n",
    "2. \"법정동코드\", \"특수지구분코드\", \"특수지구분명\", \"공동주택코드\", \"특수지명\" 컬럼을 삭제한다. \n",
    "3. \"기준연월\" 파생변수를 생성하여 \"기준연도\" + \"기준월\" 데이터를 삽입한다. \n",
    "4. pivot_table을 이용하여 인덱스는 \"기준연월\" 컬럼은 \"공동주택구분명\" 벨류는 \"공시가격\"으로 평균값을 구하고 결측치의 값은 0으로 한 뒤 바형 그래프로 출력한다. \n",
    "5. 한글이 포함되어 있음으로 한글을 표시가 될수 있도록 폰트를 변경하여 시각화를 한다."
   ]
  },
  {
   "cell_type": "code",
   "execution_count": 19,
   "metadata": {},
   "outputs": [
    {
     "name": "stderr",
     "output_type": "stream",
     "text": [
      "C:\\Users\\shoni\\AppData\\Local\\Temp\\ipykernel_16368\\1025339071.py:2: DtypeWarning: Columns (5,11,13,15) have mixed types. Specify dtype option on import or set low_memory=False.\n",
      "  sj = pd.read_csv(\"./csv/세종시.csv\", encoding = \"euc_kr\")\n"
     ]
    }
   ],
   "source": [
    "# 상대경로로 파일 로드\n",
    "sj = pd.read_csv(\"./csv/세종시.csv\", encoding = \"euc_kr\")"
   ]
  },
  {
   "cell_type": "code",
   "execution_count": 20,
   "metadata": {},
   "outputs": [],
   "source": [
    "# 컬럼 삭제\n",
    "sj.drop([\"법정동코드\", \"특수지구분코드\", \"특수지구분명\", \"공동주택코드\", \"특수지명\"], axis = 1, inplace = True)\n"
   ]
  },
  {
   "cell_type": "code",
   "execution_count": 21,
   "metadata": {},
   "outputs": [
    {
     "data": {
      "text/html": [
       "<div>\n",
       "<style scoped>\n",
       "    .dataframe tbody tr th:only-of-type {\n",
       "        vertical-align: middle;\n",
       "    }\n",
       "\n",
       "    .dataframe tbody tr th {\n",
       "        vertical-align: top;\n",
       "    }\n",
       "\n",
       "    .dataframe thead th {\n",
       "        text-align: right;\n",
       "    }\n",
       "</style>\n",
       "<table border=\"1\" class=\"dataframe\">\n",
       "  <thead>\n",
       "    <tr style=\"text-align: right;\">\n",
       "      <th></th>\n",
       "      <th>고유번호</th>\n",
       "      <th>법정동명</th>\n",
       "      <th>지번</th>\n",
       "      <th>기준연도</th>\n",
       "      <th>기준월</th>\n",
       "      <th>공동주택구분코드</th>\n",
       "      <th>공동주택구분명</th>\n",
       "      <th>공동주택명</th>\n",
       "      <th>동명</th>\n",
       "      <th>층명</th>\n",
       "      <th>호명</th>\n",
       "      <th>전용면적</th>\n",
       "      <th>공시가격</th>\n",
       "      <th>데이터기준일자</th>\n",
       "      <th>기준연월</th>\n",
       "    </tr>\n",
       "  </thead>\n",
       "  <tbody>\n",
       "    <tr>\n",
       "      <th>0</th>\n",
       "      <td>3611010100100350005</td>\n",
       "      <td>세종특별자치시 반곡동</td>\n",
       "      <td>35-5</td>\n",
       "      <td>2020</td>\n",
       "      <td>1</td>\n",
       "      <td>1</td>\n",
       "      <td>아파트</td>\n",
       "      <td>수루배마을1단지</td>\n",
       "      <td>101동</td>\n",
       "      <td>12</td>\n",
       "      <td>1201</td>\n",
       "      <td>96.93</td>\n",
       "      <td>475000000</td>\n",
       "      <td>2020-07-27</td>\n",
       "      <td>2020 1</td>\n",
       "    </tr>\n",
       "    <tr>\n",
       "      <th>1</th>\n",
       "      <td>3611010100100350005</td>\n",
       "      <td>세종특별자치시 반곡동</td>\n",
       "      <td>35-5</td>\n",
       "      <td>2020</td>\n",
       "      <td>1</td>\n",
       "      <td>1</td>\n",
       "      <td>아파트</td>\n",
       "      <td>수루배마을1단지</td>\n",
       "      <td>101동</td>\n",
       "      <td>12</td>\n",
       "      <td>1202</td>\n",
       "      <td>96.93</td>\n",
       "      <td>475000000</td>\n",
       "      <td>2020-07-27</td>\n",
       "      <td>2020 1</td>\n",
       "    </tr>\n",
       "    <tr>\n",
       "      <th>2</th>\n",
       "      <td>3611010100100350005</td>\n",
       "      <td>세종특별자치시 반곡동</td>\n",
       "      <td>35-5</td>\n",
       "      <td>2020</td>\n",
       "      <td>1</td>\n",
       "      <td>1</td>\n",
       "      <td>아파트</td>\n",
       "      <td>수루배마을1단지</td>\n",
       "      <td>101동</td>\n",
       "      <td>12</td>\n",
       "      <td>1203</td>\n",
       "      <td>96.79</td>\n",
       "      <td>506000000</td>\n",
       "      <td>2020-07-27</td>\n",
       "      <td>2020 1</td>\n",
       "    </tr>\n",
       "  </tbody>\n",
       "</table>\n",
       "</div>"
      ],
      "text/plain": [
       "                  고유번호         법정동명    지번  기준연도 기준월  공동주택구분코드 공동주택구분명  \\\n",
       "0  3611010100100350005  세종특별자치시 반곡동  35-5  2020   1         1     아파트   \n",
       "1  3611010100100350005  세종특별자치시 반곡동  35-5  2020   1         1     아파트   \n",
       "2  3611010100100350005  세종특별자치시 반곡동  35-5  2020   1         1     아파트   \n",
       "\n",
       "      공동주택명    동명  층명    호명   전용면적       공시가격     데이터기준일자    기준연월  \n",
       "0  수루배마을1단지  101동  12  1201  96.93  475000000  2020-07-27  2020 1  \n",
       "1  수루배마을1단지  101동  12  1202  96.93  475000000  2020-07-27  2020 1  \n",
       "2  수루배마을1단지  101동  12  1203  96.79  506000000  2020-07-27  2020 1  "
      ]
     },
     "execution_count": 21,
     "metadata": {},
     "output_type": "execute_result"
    }
   ],
   "source": [
    "# '기준연월' 파생변수 생성\n",
    "sj['기준연도'] = sj['기준연도'].astype('str')\n",
    "sj['기준월'] = sj['기준월'].astype('str')\n",
    "\n",
    "sj[\"기준연월\"] = sj[\"기준연도\"] + \" \" + sj['기준월']\n",
    "sj.head(3)"
   ]
  },
  {
   "cell_type": "code",
   "execution_count": 22,
   "metadata": {},
   "outputs": [],
   "source": [
    "import platform\n",
    "import matplotlib.pyplot as plt"
   ]
  },
  {
   "cell_type": "code",
   "execution_count": 23,
   "metadata": {},
   "outputs": [],
   "source": [
    "# 그래프에서 한글 깨짐 방지\n",
    "if platform.system() == \"Darwin\" :  # Mac 인 경우\n",
    "    plt.rc('font', family = 'AppleGothic')\n",
    "else :\n",
    "    plt.rc('font', family = 'Malgun Gothic')"
   ]
  },
  {
   "cell_type": "code",
   "execution_count": 24,
   "metadata": {},
   "outputs": [],
   "source": [
    "# pivot_table 작성, 결측치 0 으로 입력\n",
    "pivot= pd.pivot_table(\n",
    "    sj,\n",
    "    index='기준연월',\n",
    "    columns='공동주택구분명',\n",
    "    aggfunc= \"mean\",\n",
    "    values=\"공시가격\"\n",
    ").fillna(0)"
   ]
  },
  {
   "cell_type": "code",
   "execution_count": 25,
   "metadata": {},
   "outputs": [
    {
     "data": {
      "text/plain": [
       "<Axes: xlabel='기준연월'>"
      ]
     },
     "execution_count": 25,
     "metadata": {},
     "output_type": "execute_result"
    },
    {
     "data": {
      "image/png": "[encoded data removed]",
      "text/plain": [
       "<Figure size 640x480 with 1 Axes>"
      ]
     },
     "metadata": {},
     "output_type": "display_data"
    }
   ],
   "source": [
    "pivot.plot.bar()"
   ]
  },
  {
   "cell_type": "code",
   "execution_count": null,
   "metadata": {},
   "outputs": [],
   "source": []
  }
 ],
 "metadata": {
  "kernelspec": {
   "display_name": "Python 3.10.4 64-bit",
   "language": "python",
   "name": "python3"
  },
  "language_info": {
   "codemirror_mode": {
    "name": "ipython",
    "version": 3
   },
   "file_extension": ".py",
   "mimetype": "text/x-python",
   "name": "python",
   "nbconvert_exporter": "python",
   "pygments_lexer": "ipython3",
   "version": "3.11.2"
  },
  "orig_nbformat": 4,
  "vscode": {
   "interpreter": {
    "hash": "eccee16ee1f2ca6b29c61e3c4642a90ff58e47b250cd293abf19e9e3b8422bd1"
   }
  }
 },
 "nbformat": 4,
 "nbformat_minor": 2
}
