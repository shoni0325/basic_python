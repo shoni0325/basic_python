{
 "cells": [
  {
   "attachments": {},
   "cell_type": "markdown",
   "metadata": {},
   "source": [
    "# 함수"
   ]
  },
  {
   "cell_type": "code",
   "execution_count": 1,
   "metadata": {},
   "outputs": [
    {
     "name": "stdout",
     "output_type": "stream",
     "text": [
      "Hello\n"
     ]
    }
   ],
   "source": [
    "a = \"Hello\"\n",
    "print(a)"
   ]
  },
  {
   "cell_type": "code",
   "execution_count": 2,
   "metadata": {},
   "outputs": [
    {
     "name": "stdout",
     "output_type": "stream",
     "text": [
      "5\n"
     ]
    }
   ],
   "source": [
    "# 문자의 길이를 출력해주는 함수\n",
    "print(len(a))               # (a)로 실행되는 함수는 a밖에 만들어져 있어서, 독립적으로 만들어진 함수"
   ]
  },
  {
   "cell_type": "code",
   "execution_count": 3,
   "metadata": {},
   "outputs": [
    {
     "name": "stdout",
     "output_type": "stream",
     "text": [
      "HELLO\n",
      "hello\n"
     ]
    }
   ],
   "source": [
    "# 문자를 대문자나 소문자로 변경을 하는 함수\n",
    "\n",
    "# 문자를 모두 대문자로 변경\n",
    "print(a.upper())            # a.으로 실행되는 함수는 a안에 만들어져 있는 함수\n",
    "# 문자를 모두 소문자로 변경\n",
    "print(a.lower())"
   ]
  },
  {
   "cell_type": "code",
   "execution_count": 5,
   "metadata": {},
   "outputs": [
    {
     "name": "stdout",
     "output_type": "stream",
     "text": [
      "Hello World\n"
     ]
    }
   ],
   "source": [
    "b = \"hello world\"\n",
    "# 단어의 첫글자만 대문자로 변경하는 함수\n",
    "print(b.title())"
   ]
  },
  {
   "cell_type": "code",
   "execution_count": 7,
   "metadata": {},
   "outputs": [
    {
     "name": "stdout",
     "output_type": "stream",
     "text": [
      "   Hello World   \n"
     ]
    },
    {
     "data": {
      "text/plain": [
       "'   Hello World   '"
      ]
     },
     "execution_count": 7,
     "metadata": {},
     "output_type": "execute_result"
    }
   ],
   "source": [
    "# 좌우의 공백을 제거하는 함수\n",
    "# strip()\n",
    "a = \"   Hello World   \"\n",
    "print(a)        # 공백이 잘 보이지 않는다.\n",
    "a               # 변수만 입력하면, 이 변수가 뭔지 보여준다. 공백을 보기 편리하다."
   ]
  },
  {
   "cell_type": "code",
   "execution_count": 8,
   "metadata": {},
   "outputs": [
    {
     "data": {
      "text/plain": [
       "'Hello World'"
      ]
     },
     "execution_count": 8,
     "metadata": {},
     "output_type": "execute_result"
    }
   ],
   "source": [
    "# 좌우 모두 공백을 제거\n",
    "a.strip()"
   ]
  },
  {
   "cell_type": "code",
   "execution_count": 9,
   "metadata": {},
   "outputs": [
    {
     "data": {
      "text/plain": [
       "'Hello World   '"
      ]
     },
     "execution_count": 9,
     "metadata": {},
     "output_type": "execute_result"
    }
   ],
   "source": [
    "# 좌측 공백만 제거\n",
    "a.lstrip()"
   ]
  },
  {
   "cell_type": "code",
   "execution_count": 10,
   "metadata": {},
   "outputs": [
    {
     "data": {
      "text/plain": [
       "'   Hello World'"
      ]
     },
     "execution_count": 10,
     "metadata": {},
     "output_type": "execute_result"
    }
   ],
   "source": [
    "# 우측 공백만 제거\n",
    "a.rstrip()\n",
    "\n",
    "# strip 함수는 공백뿐만 아니라 옵션에 넣어서 옵션의 글자를 지울 수도 있다."
   ]
  },
  {
   "cell_type": "code",
   "execution_count": 18,
   "metadata": {},
   "outputs": [],
   "source": [
    "b = \"$2.$11$\""
   ]
  },
  {
   "cell_type": "code",
   "execution_count": 19,
   "metadata": {},
   "outputs": [
    {
     "data": {
      "text/plain": [
       "'2.$11$'"
      ]
     },
     "execution_count": 19,
     "metadata": {},
     "output_type": "execute_result"
    }
   ],
   "source": [
    "# b라는 변수에 있는 좌측의 '$' 표시를 제거\n",
    "b.lstrip('$')"
   ]
  },
  {
   "cell_type": "code",
   "execution_count": 20,
   "metadata": {},
   "outputs": [
    {
     "data": {
      "text/plain": [
       "'$2.$11'"
      ]
     },
     "execution_count": 20,
     "metadata": {},
     "output_type": "execute_result"
    }
   ],
   "source": [
    "b.rstrip('$')"
   ]
  },
  {
   "cell_type": "code",
   "execution_count": 21,
   "metadata": {},
   "outputs": [
    {
     "data": {
      "text/plain": [
       "'2.$11'"
      ]
     },
     "execution_count": 21,
     "metadata": {},
     "output_type": "execute_result"
    }
   ],
   "source": [
    "b.strip('$')"
   ]
  },
  {
   "cell_type": "code",
   "execution_count": 22,
   "metadata": {},
   "outputs": [
    {
     "data": {
      "text/plain": [
       "'-2.-11-'"
      ]
     },
     "execution_count": 22,
     "metadata": {},
     "output_type": "execute_result"
    }
   ],
   "source": [
    "# 특정한 단어를 대체하는 함수\n",
    "# replace(기준 단어, 대체할 단어)\n",
    "\n",
    "# b 변수의 '$' 표기를 '-' 로 변경\n",
    "b.replace('$', '-')\n"
   ]
  },
  {
   "cell_type": "code",
   "execution_count": 25,
   "metadata": {},
   "outputs": [
    {
     "data": {
      "text/plain": [
       "'2.11'"
      ]
     },
     "execution_count": 25,
     "metadata": {},
     "output_type": "execute_result"
    }
   ],
   "source": [
    "# b 변수의 '$' 표기를 삭제하려면?\n",
    "b.replace('$', '')"
   ]
  },
  {
   "cell_type": "code",
   "execution_count": 26,
   "metadata": {},
   "outputs": [
    {
     "data": {
      "text/plain": [
       "'HelloWorld'"
      ]
     },
     "execution_count": 26,
     "metadata": {},
     "output_type": "execute_result"
    }
   ],
   "source": [
    "# a 변수에 공백을 모두 삭제하려면?\n",
    "a.replace(' ', '')"
   ]
  },
  {
   "cell_type": "code",
   "execution_count": 27,
   "metadata": {},
   "outputs": [
    {
     "name": "stdout",
     "output_type": "stream",
     "text": [
      "['1', '2', '3', '4', '5']\n"
     ]
    }
   ],
   "source": [
    "# 문자열을 특정한 값을 기준으로 나눠주는 함수\n",
    "# split(특정한 값) -> 인자 값을 아무것도 넣지 않으면 \" \"을 기준으로 나눠준다\n",
    "\n",
    "a = \"1,2,3,4,5\"\n",
    "b = \"1 2 3 4 5\"\n",
    "\n",
    "print(a.split(','))         # 리스트 형태로 ','를 기준으로 값을 다 잘라준다. 원래 a변수에 포함되어 있던 ','는 사라진 것."
   ]
  },
  {
   "cell_type": "code",
   "execution_count": 28,
   "metadata": {},
   "outputs": [
    {
     "name": "stdout",
     "output_type": "stream",
     "text": [
      "['1', '2', '3', '4', '5']\n"
     ]
    }
   ],
   "source": [
    "print(b.split())            # 괄호에 아무 값도 안 넣어주면, 공백을 기준으로 나눠준다."
   ]
  },
  {
   "cell_type": "code",
   "execution_count": 29,
   "metadata": {},
   "outputs": [
    {
     "name": "stdout",
     "output_type": "stream",
     "text": [
      "3\n"
     ]
    }
   ],
   "source": [
    "print(a.split(\",\")[2])"
   ]
  },
  {
   "cell_type": "code",
   "execution_count": 31,
   "metadata": {},
   "outputs": [
    {
     "name": "stdout",
     "output_type": "stream",
     "text": [
      "6\n",
      "1\n"
     ]
    }
   ],
   "source": [
    "# max() -> 인자값들 중에 가장 큰 숫자를 출력\n",
    "# mean() -> 인자값들의 평균 출력\n",
    "# min() -> 인자값들 중에 가장 작은 숫자를 출력\n",
    "print(max(1,6,3,4))\n",
    "print(min(1,6,3,4))\n"
   ]
  },
  {
   "cell_type": "code",
   "execution_count": 32,
   "metadata": {},
   "outputs": [
    {
     "name": "stdout",
     "output_type": "stream",
     "text": [
      "Hello\n"
     ]
    }
   ],
   "source": [
    "# 일반함수\n",
    "\n",
    "# 함수 선언, 생성\n",
    "def func_1() :      # 매개변수 존재하지 않을 때\n",
    "    return \"Hello\"\n",
    "\n",
    "# 함수를 호출\n",
    "print(func_1())"
   ]
  },
  {
   "cell_type": "code",
   "execution_count": 33,
   "metadata": {},
   "outputs": [
    {
     "name": "stdout",
     "output_type": "stream",
     "text": [
      "9\n",
      "3\n",
      "Helloworld\n"
     ]
    }
   ],
   "source": [
    "# 매개변수가 존재하는 경우\n",
    "def func_2(a, b) :\n",
    "    c = a + b\n",
    "    return c\n",
    "\n",
    "print(func_2(3, 6))             # 9 출력\n",
    "print(func_2(1, 2))             # 3 출력\n",
    "print(func_2('Hello', 'world')) # Helloworld 출력"
   ]
  },
  {
   "cell_type": "code",
   "execution_count": 35,
   "metadata": {},
   "outputs": [
    {
     "ename": "TypeError",
     "evalue": "func_2() missing 1 required positional argument: 'b'",
     "output_type": "error",
     "traceback": [
      "\u001b[1;31m---------------------------------------------------------------------------\u001b[0m",
      "\u001b[1;31mTypeError\u001b[0m                                 Traceback (most recent call last)",
      "Cell \u001b[1;32mIn[35], line 2\u001b[0m\n\u001b[0;32m      1\u001b[0m \u001b[39m# 함수의 매개변수의 개수와 호출할 때 인자의 개수가 다르면?\u001b[39;00m\n\u001b[1;32m----> 2\u001b[0m func_2(\u001b[39m4\u001b[39;49m)\n",
      "\u001b[1;31mTypeError\u001b[0m: func_2() missing 1 required positional argument: 'b'"
     ]
    }
   ],
   "source": [
    "# 함수의 매개변수의 개수와 호출할 때 인자의 개수가 다르면? 찾아보기\n",
    "func_2(4)"
   ]
  },
  {
   "cell_type": "code",
   "execution_count": 36,
   "metadata": {},
   "outputs": [
    {
     "ename": "TypeError",
     "evalue": "func_2() takes 2 positional arguments but 3 were given",
     "output_type": "error",
     "traceback": [
      "\u001b[1;31m---------------------------------------------------------------------------\u001b[0m",
      "\u001b[1;31mTypeError\u001b[0m                                 Traceback (most recent call last)",
      "Cell \u001b[1;32mIn[36], line 1\u001b[0m\n\u001b[1;32m----> 1\u001b[0m func_2(\u001b[39m1\u001b[39;49m,\u001b[39m2\u001b[39;49m,\u001b[39m3\u001b[39;49m)\n",
      "\u001b[1;31mTypeError\u001b[0m: func_2() takes 2 positional arguments but 3 were given"
     ]
    }
   ],
   "source": [
    "func_2(1,2,3)"
   ]
  },
  {
   "cell_type": "code",
   "execution_count": 38,
   "metadata": {},
   "outputs": [
    {
     "name": "stdout",
     "output_type": "stream",
     "text": [
      "10\n",
      "-2\n"
     ]
    }
   ],
   "source": [
    "def func_3(a, b) :\n",
    "    c = 10              # c는 함수 안에 있는 변수 (지역 변수)\n",
    "    result = a + b - 10\n",
    "    print(c)\n",
    "    return result\n",
    "\n",
    "print(func_3(3, 5))\n",
    "# print(c)  c는 지역 변수이므로 이대로 출력하면 오류가 난다."
   ]
  },
  {
   "attachments": {},
   "cell_type": "markdown",
   "metadata": {},
   "source": [
    "- 전역 변수\n",
    "    1. 어디서든 사용이 가능한 변수\n",
    "    2. 들여쓰기를 하지 않은 공간에서 생성한 변수\n",
    "\n",
    "- 지역 변수\n",
    "    1. 특정한 구간에서만 사용이 가능한 변수\n",
    "    2. 들여쓰기가 된 공간에서 생성한 변수\n",
    "    3. 함수 안에서만 만들어진 변수, 클래스 안에서 만들어진 변수"
   ]
  },
  {
   "cell_type": "code",
   "execution_count": 40,
   "metadata": {},
   "outputs": [
    {
     "name": "stdout",
     "output_type": "stream",
     "text": [
      "15\n"
     ]
    }
   ],
   "source": [
    "x = 3\n",
    "\n",
    "def func_4(a) :\n",
    "    result = a * x\n",
    "    return result\n",
    "\n",
    "print(func_4(5))\n",
    "\n",
    "# x는 전역변수\n",
    "# a는 매개변수(지역변수)"
   ]
  },
  {
   "cell_type": "code",
   "execution_count": 42,
   "metadata": {},
   "outputs": [
    {
     "name": "stdout",
     "output_type": "stream",
     "text": [
      "6\n",
      "7\n"
     ]
    }
   ],
   "source": [
    "# 매개변수에 기본값 설정\n",
    "def func_5(a, b, c = 2) :\n",
    "    result = a + b - c\n",
    "    return result\n",
    "\n",
    "print(func_5(5, 4, 3))  # c에 새로운 값을 지정해서 출력된다.\n",
    "print(func_5(5, 4))     # c에 기본값을 설정했기 때문에 c값을 입력하지 않아도 출력된다."
   ]
  },
  {
   "cell_type": "code",
   "execution_count": 45,
   "metadata": {},
   "outputs": [
    {
     "name": "stdout",
     "output_type": "stream",
     "text": [
      "6/7\n",
      "-1\n"
     ]
    }
   ],
   "source": [
    "print(func_5(5, 4, 3), end = '/')   # '/'로 변경시 /로 출력 구분\n",
    "print(func_5(5, 4))\n",
    "print(func_5(c = 5, a = 3, b = 1))  # 외부 라이브러리에서 기존에 만들어둔 함수를 사용 할 때, 몇 개만 바꾸고 싶으면 따로 지정해서 바꿀 수 있다."
   ]
  },
  {
   "cell_type": "code",
   "execution_count": 46,
   "metadata": {},
   "outputs": [
    {
     "name": "stdout",
     "output_type": "stream",
     "text": [
      "8\n",
      "2\n",
      "c의 값이 잘못되었습니다.\n"
     ]
    }
   ],
   "source": [
    "# c의 값이 1이면 a와 b의 합계 return\n",
    "# c의 값이 2이면 a와 b의 차이 return\n",
    "# c가 그 외의 데이터이면 'c의 값이 잘못되었습니다' return\n",
    "\n",
    "def func_6(a, b, c) :\n",
    "    # c가 1인 경우\n",
    "    if c == 1 :\n",
    "        # a와 b의 합계를 return\n",
    "        return a + b\n",
    "    # c가 1이 아니고 2인 경우\n",
    "    elif c == 2 :\n",
    "        # a와 b의 차이를 return\n",
    "        return a - b\n",
    "    # c가 그 외의 데이터이면\n",
    "    else :\n",
    "        return 'c의 값이 잘못되었습니다.'\n",
    "\n",
    "\n",
    "print(func_6(5,3,1))\n",
    "print(func_6(5,3,2))\n",
    "print(func_6(5,3,3))"
   ]
  },
  {
   "cell_type": "code",
   "execution_count": 48,
   "metadata": {},
   "outputs": [
    {
     "name": "stdout",
     "output_type": "stream",
     "text": [
      "8\n",
      "2\n",
      "c의 값이 잘못되었습니다.\n"
     ]
    }
   ],
   "source": [
    "# return은 한 번만 실행되어야 한다. 이 경우 셋 중에 한 경우만 return이 실행되지만, 웬만하면 return은 마지막에 한 번만 실행하는 것이 깔끔하고 좋다.\n",
    "\n",
    "def func_6(a, b, c) :\n",
    "    \n",
    "    if c == 1 :\n",
    "        result = a + b          # result라는 변수를 세 경우 모두 동일하게 생성하고,\n",
    "\n",
    "    elif c == 2 :\n",
    "        result = a - b\n",
    "    \n",
    "    else :\n",
    "        result = 'c의 값이 잘못되었습니다.'\n",
    "\n",
    "    return result               # return을 if 함수에서 한 번만 실행. (위치 중요)\n",
    "\n",
    "print(func_6(5,3,1))\n",
    "print(func_6(5,3,2))\n",
    "print(func_6(5,3,3))"
   ]
  },
  {
   "cell_type": "code",
   "execution_count": 49,
   "metadata": {},
   "outputs": [
    {
     "name": "stdout",
     "output_type": "stream",
     "text": [
      "1\n",
      "2\n",
      "3\n",
      "4\n",
      "5\n",
      "6\n",
      "7\n",
      "8\n",
      "9\n",
      "10\n"
     ]
    }
   ],
   "source": [
    "# 반복문\n",
    "for i in range(1, 11, 1) :\n",
    "    print(i)"
   ]
  },
  {
   "cell_type": "code",
   "execution_count": 50,
   "metadata": {},
   "outputs": [
    {
     "name": "stdout",
     "output_type": "stream",
     "text": [
      "10\n",
      "20\n",
      "30\n",
      "40\n"
     ]
    }
   ],
   "source": [
    "_list = [10, 20, 30, 40]\n",
    "for i in _list :\n",
    "    print(i)"
   ]
  },
  {
   "cell_type": "code",
   "execution_count": 51,
   "metadata": {},
   "outputs": [
    {
     "name": "stdout",
     "output_type": "stream",
     "text": [
      "10\n",
      "20\n",
      "30\n",
      "40\n"
     ]
    }
   ],
   "source": [
    "for i in range(0, len(_list), 1) :\n",
    "    print(_list[i])"
   ]
  },
  {
   "attachments": {},
   "cell_type": "markdown",
   "metadata": {},
   "source": [
    "### 예제 문제\n",
    "1. 함수 생성 (매개변수 2개 : _min, _max,)\n",
    "2. _min부터 _max까지의 합계를 출력하는 함수\n",
    "    1. 함수 생성. 매개변수 2개를 넣어서 생성\n",
    "    2. 매개변수 2개가 print() 함수를 이용해서 출력\n",
    "    3. 함수 안에 반복문을 생성. _min부터 _max까지 반복해서 i 값을 출력\n",
    "    4. 합계라는 변수를 하나 생성해서 0 대입\n",
    "    5. 반복문에서 i 값을 합계라는 변수에 더해줌\n",
    "    6. 합계 리턴"
   ]
  },
  {
   "cell_type": "code",
   "execution_count": 101,
   "metadata": {},
   "outputs": [],
   "source": [
    "# 소연 풀이\n",
    "\n",
    "# def func_Q(_min, _max) :\n",
    "#   print(_min)\n",
    "#   print(_max)\n",
    "\n",
    "#    add = 0\n",
    "#    for i in range(1, len(func_Q), 1) :\n",
    "#        add += i\n",
    "        \n",
    "#    return add\n",
    "\n",
    "#print(func_Q())\n",
    "    "
   ]
  },
  {
   "cell_type": "code",
   "execution_count": 106,
   "metadata": {},
   "outputs": [],
   "source": [
    "def func_7(_min, _max) :\n",
    "        # print(_min)\n",
    "        # print(_max)\n",
    "    add = 0\n",
    "    # _max가 _min보다 큰 경우\n",
    "    if _min < _max :\n",
    "        for i in range(_min, _max+1) :\n",
    "            # print(i)\n",
    "          add += i\n",
    "    else :\n",
    "        for i in range(_max, _min+1) :\n",
    "            add += i\n",
    "    return add"
   ]
  },
  {
   "cell_type": "code",
   "execution_count": 107,
   "metadata": {},
   "outputs": [
    {
     "name": "stdout",
     "output_type": "stream",
     "text": [
      "52\n",
      "52\n"
     ]
    }
   ],
   "source": [
    "print(func_7(3, 10))\n",
    "print(func_7(10, 3))"
   ]
  },
  {
   "cell_type": "code",
   "execution_count": 104,
   "metadata": {},
   "outputs": [],
   "source": [
    "# 또 다른 방법\n",
    "def func_8(_min, _max) :\n",
    "    result = 0\n",
    "    for i in range (min(_min, _max), max(_min, _max) + 1) :\n",
    "        result += i\n",
    "    return result"
   ]
  },
  {
   "cell_type": "code",
   "execution_count": 105,
   "metadata": {},
   "outputs": [
    {
     "name": "stdout",
     "output_type": "stream",
     "text": [
      "55\n",
      "55\n"
     ]
    }
   ],
   "source": [
    "print(func_8(1, 10))\n",
    "print(func_8(10, 1))"
   ]
  },
  {
   "cell_type": "code",
   "execution_count": 110,
   "metadata": {},
   "outputs": [
    {
     "name": "stdout",
     "output_type": "stream",
     "text": [
      "4\n",
      "None\n"
     ]
    }
   ],
   "source": [
    "def func_9(a, b) :\n",
    "    result = a + b\n",
    "    print(result)       # 실제 파이썬 환경에서는 print를 써야만 출력이 된다.\n",
    "\n",
    "x = func_9(1, 3)\n",
    "print(x)                # 함수에서 되돌려 주는 값이 없으므로 None"
   ]
  },
  {
   "cell_type": "code",
   "execution_count": 111,
   "metadata": {},
   "outputs": [
    {
     "name": "stdout",
     "output_type": "stream",
     "text": [
      "4\n"
     ]
    }
   ],
   "source": [
    "def func_10(a, b) :\n",
    "    result = a + b\n",
    "    return result       # 주피터 노트북상에서는 편의상 값을 보여줄 뿐, print 쓰지 않으면 보이지 않는다.\n",
    "\n",
    "x = func_10(1, 3)\n",
    "print(x)"
   ]
  },
  {
   "cell_type": "code",
   "execution_count": 114,
   "metadata": {},
   "outputs": [],
   "source": [
    "# 함수 생성 -> 인자의 개수가 가변인 경우\n",
    "def func_11(x, *_list) :\n",
    "    print(_list)"
   ]
  },
  {
   "cell_type": "code",
   "execution_count": 115,
   "metadata": {},
   "outputs": [
    {
     "name": "stdout",
     "output_type": "stream",
     "text": [
      "(2, 3, 4, 5)\n",
      "(2, 3)\n",
      "(2, 3, 4, 5, 6, 7, 8, 9, 10)\n"
     ]
    }
   ],
   "source": [
    "func_11(1,2,3,4,5)\n",
    "func_11(1,2,3)\n",
    "func_11(1,2,3,4,5,6,7,8,9,10)"
   ]
  },
  {
   "attachments": {},
   "cell_type": "markdown",
   "metadata": {},
   "source": [
    "- max(), min() 함수를 생성\n",
    "    1. 인자의 개수가 가변이다. -> * 표시를 통해 매개변수\n",
    "    2. (max 기준) 각각의 항목들을 비교해서 가장 큰 숫자를 출력 -> return int형태\n",
    "    3. 예를 들어 4개의 항목의 데이터가 대입\n",
    "        1. 첫번째 항목과 두번째 항목을 비교해서 큰 값을 새로운 변수에 대입\n",
    "        2. 1번 과정에서 나온 값과 세 번째 항목을 비교해서 큰 값을 다시 변수에 대입\n",
    "        3. 2번 과정에서 나온 값과 마지막 항목을 비교해서 큰 값을 다시 변수에 대입\n",
    "        4. 최종 변수의 값을 return"
   ]
  },
  {
   "cell_type": "code",
   "execution_count": 119,
   "metadata": {},
   "outputs": [],
   "source": [
    "def custom_max(*_list) :\n",
    "    result = _list[0]       # 인자가 한 개더라도 결과가 나오게 하기 위해\n",
    "\n",
    "    # 첫 번째 원소를 출력?\n",
    "    # 첫 번째 원소와 두 번째 원소의 값을 비교하여 큰 값을 result에 대입\n",
    "    # if result > _list[1] :\n",
    "       # result = _list[0]\n",
    "    # else :\n",
    "        # result = _list[1]\n",
    "    \n",
    "    # result와 세 번째 원소를 비교\n",
    "    # if result > _list[2] :\n",
    "        # result = result\n",
    "    # else :\n",
    "        # result = _list[2]\n",
    "\n",
    "# -------------------------------------------- 계속 반복의 형태\n",
    "    # if result < _list[1] :        \n",
    "    #     result = _list[1]\n",
    "\n",
    "    # if result < _list[2] :\n",
    "    #     result = _list[2]\n",
    "\n",
    "#--------------------------------------------- 깔끔하게 정리하면?\n",
    "#     \n",
    "    # case1. 위치로 계산\n",
    "    # for i in range(1, len(_list), 1) :\n",
    "    #     if result < _list[i] :\n",
    "    #         result = _list[i]    \n",
    "    # return result\n",
    "    #------------------\n",
    "    # case2. i값으로 계산\n",
    "    for i in _list :\n",
    "        if result < i :\n",
    "            result = i\n",
    "    return result"
   ]
  },
  {
   "cell_type": "code",
   "execution_count": 120,
   "metadata": {},
   "outputs": [
    {
     "name": "stdout",
     "output_type": "stream",
     "text": [
      "8\n",
      "50\n"
     ]
    }
   ],
   "source": [
    "print(custom_max(1, 6, 4, 8, 2))\n",
    "print(custom_max(6, 3, 2, 9, 11, 50, -100))"
   ]
  },
  {
   "attachments": {},
   "cell_type": "markdown",
   "metadata": {},
   "source": [
    "- 평균을 출력해주는 함수 생성\n",
    "    1. 인자 개수가 가변\n",
    "    2. 받아온 인자 값들을 원소 하나씩 출력\n",
    "    3. 각 원소들의 합계\n",
    "        1. 합계라는 변수 생성, 0을 대입\n",
    "        2. 각 원소들의 값들은 합계에 추가\n",
    "    4. (합계) / (인자의 개수)\n",
    "    5. 평균값을 return"
   ]
  },
  {
   "cell_type": "code",
   "execution_count": 133,
   "metadata": {},
   "outputs": [],
   "source": [
    "# 소연 풀이\n",
    "\n",
    "# def custom_mean(*_list) :\n",
    "#     print(custom_mean(_list))\n",
    "    \n",
    "#     result = 0\n",
    "\n",
    "#     for i in _list :\n",
    "#         result += i\n",
    "\n",
    "#     x = result / len(_list)\n",
    "#     return x\n",
    "\n",
    "# -----------------------------------------\n",
    "\n",
    "def custom_mean(*_list) :\n",
    "    # while문\n",
    "    # 초기값 지정\n",
    "    i = 0\n",
    "    # 합계 변수 생성, 0을 대입\n",
    "    sum = 0\n",
    "    while i < len(_list) :\n",
    "        #print(_list[i])\n",
    "        sum += _list[i]\n",
    "        # i 값을 증가\n",
    "        i += 1\n",
    "    # print(sum)\n",
    "    result = sum / len(_list)\n",
    "    return result    "
   ]
  },
  {
   "cell_type": "code",
   "execution_count": 134,
   "metadata": {},
   "outputs": [
    {
     "name": "stdout",
     "output_type": "stream",
     "text": [
      "3.0\n",
      "5.5\n"
     ]
    }
   ],
   "source": [
    "print(custom_mean(1,2,3,4,5))\n",
    "print(custom_mean(1,2,3,4,5,6,7,8,9,10))"
   ]
  },
  {
   "cell_type": "code",
   "execution_count": 141,
   "metadata": {},
   "outputs": [],
   "source": [
    "# 외부의 모듈을 로드\n",
    "import mod1"
   ]
  },
  {
   "cell_type": "code",
   "execution_count": 142,
   "metadata": {},
   "outputs": [
    {
     "data": {
      "text/plain": [
       "5"
      ]
     },
     "execution_count": 142,
     "metadata": {},
     "output_type": "execute_result"
    }
   ],
   "source": [
    "mod1.custom_max(1,2,3,4,5)"
   ]
  },
  {
   "cell_type": "code",
   "execution_count": 143,
   "metadata": {},
   "outputs": [
    {
     "data": {
      "text/plain": [
       "3.0"
      ]
     },
     "execution_count": 143,
     "metadata": {},
     "output_type": "execute_result"
    }
   ],
   "source": [
    "mod1.custom_mean(1,2,3,4,5)"
   ]
  },
  {
   "attachments": {},
   "cell_type": "markdown",
   "metadata": {},
   "source": [
    "# 클래스"
   ]
  },
  {
   "cell_type": "code",
   "execution_count": 145,
   "metadata": {},
   "outputs": [],
   "source": [
    "# 클래스를 선언\n",
    "class Class_1() :\n",
    "    # 생성자 함수를 생성        - 클래스가 생성이 될때 실행되는 함수. 호출할 수 없다. 한 번만 실행된다.\n",
    "    def __init__(self, input_a, input_b) :\n",
    "        self.a = input_a\n",
    "        self.b = input_b"
   ]
  },
  {
   "cell_type": "code",
   "execution_count": 146,
   "metadata": {},
   "outputs": [],
   "source": [
    "# 클래스 생성\n",
    "test_class = Class_1('test', '10')"
   ]
  },
  {
   "cell_type": "code",
   "execution_count": 147,
   "metadata": {},
   "outputs": [
    {
     "name": "stdout",
     "output_type": "stream",
     "text": [
      "<__main__.Class_1 object at 0x0000027AC6BB42D0>\n"
     ]
    }
   ],
   "source": [
    "print(test_class)"
   ]
  },
  {
   "cell_type": "code",
   "execution_count": 148,
   "metadata": {},
   "outputs": [
    {
     "name": "stdout",
     "output_type": "stream",
     "text": [
      "test\n"
     ]
    }
   ],
   "source": [
    "print(test_class.a)"
   ]
  },
  {
   "cell_type": "code",
   "execution_count": 151,
   "metadata": {},
   "outputs": [],
   "source": [
    "test_class2 = Class_1(\"ubion\",\"python\")"
   ]
  },
  {
   "cell_type": "code",
   "execution_count": 152,
   "metadata": {},
   "outputs": [
    {
     "name": "stdout",
     "output_type": "stream",
     "text": [
      "ubion\n"
     ]
    }
   ],
   "source": [
    "print(test_class2.a)"
   ]
  },
  {
   "cell_type": "code",
   "execution_count": 153,
   "metadata": {},
   "outputs": [
    {
     "name": "stdout",
     "output_type": "stream",
     "text": [
      "test\n"
     ]
    }
   ],
   "source": [
    "print(test_class.a)"
   ]
  },
  {
   "cell_type": "code",
   "execution_count": 168,
   "metadata": {},
   "outputs": [],
   "source": [
    "# 카페 클래스 선언\n",
    "class Cafe() :\n",
    "    # 클래스 변수 : 지역변수이지만, 전역변수의 특징을 가지고 있다. 지역변수 중 광범위하다고 말할 수 있다.\n",
    "    \n",
    "\n",
    "    # 생성자 함수\n",
    "    def __init__(self, input_name) :\n",
    "        self.name = input_name\n",
    "        self.menu = {\n",
    "        \"아메리카노\" : [\"물\", \"에스프레소\"], \n",
    "        \"바닐라라떼\" : [\"우유\", \"에스프레소\", \"바닐라시럽\"], \n",
    "        \"카페모카\" : [\"우유\", \"에스프레소\", \"초코시럽\", \"휘핑크림\"]\n",
    "    }\n",
    "    \n",
    "    # 음료 제작 과정 함수\n",
    "    def made_coffee(self, input_bean, input_select, input_ice) :\n",
    "        self.bean = input_bean\n",
    "        self.select = input_select\n",
    "        self.ice = input_ice\n",
    "        # 선택한 메뉴의 재료를 추출\n",
    "        self.data = self.menu[self.select]\n",
    "        return(self.bean, self.ice, self.data)\n",
    "    \n",
    "    #  메뉴를 추가하는 함수\n",
    "    def add_menu(self, input_menu_name, input_data) :\n",
    "        # 딕셔너리 데이터에 새로운 키 : 밸류 값을 추가\n",
    "        self.menu[input_menu_name] = input_data\n"
   ]
  },
  {
   "cell_type": "code",
   "execution_count": 169,
   "metadata": {},
   "outputs": [],
   "source": [
    "cafe1 = Cafe(\"빽다방\")"
   ]
  },
  {
   "cell_type": "code",
   "execution_count": 170,
   "metadata": {},
   "outputs": [],
   "source": [
    "cafe2 = Cafe(\"별다방\")"
   ]
  },
  {
   "cell_type": "code",
   "execution_count": 171,
   "metadata": {},
   "outputs": [
    {
     "name": "stdout",
     "output_type": "stream",
     "text": [
      "빽다방\n",
      "별다방\n"
     ]
    }
   ],
   "source": [
    "print(cafe1.name)\n",
    "print(cafe2.name)"
   ]
  },
  {
   "cell_type": "code",
   "execution_count": 159,
   "metadata": {},
   "outputs": [
    {
     "name": "stdout",
     "output_type": "stream",
     "text": [
      "('에디오피아', True, ['물', '에스프레소'])\n",
      "('케냐', False, ['우유', '에스프레소', '초코시럽', '휘핑크림'])\n"
     ]
    }
   ],
   "source": [
    "print(cafe1.made_coffee(\"에디오피아\", \"아메리카노\", True))\n",
    "print(cafe2.made_coffee(\"케냐\", \"카페모카\", False))"
   ]
  },
  {
   "cell_type": "code",
   "execution_count": 172,
   "metadata": {},
   "outputs": [],
   "source": [
    "# class 안에 있는 add_menu 함수를 호출\n",
    "cafe1.add_menu(\"말차라떼\", [\"말차파우더\", \"우유\"])\n",
    "cafe2.add_menu(\"돌체라떼\", [\"우유\", \"에스프레소\", \"연유\"])"
   ]
  },
  {
   "cell_type": "code",
   "execution_count": 173,
   "metadata": {},
   "outputs": [
    {
     "name": "stdout",
     "output_type": "stream",
     "text": [
      "{'아메리카노': ['물', '에스프레소'], '바닐라라떼': ['우유', '에스프레소', '바닐라시럽'], '카페모카': ['우유', '에스프레소', '초코시럽', '휘핑크림'], '말차라떼': ['말차파우더', '우유']}\n",
      "{'아메리카노': ['물', '에스프레소'], '바닐라라떼': ['우유', '에스프레소', '바닐라시럽'], '카페모카': ['우유', '에스프레소', '초코시럽', '휘핑크림'], '돌체라떼': ['우유', '에스프레소', '연유']}\n"
     ]
    }
   ],
   "source": [
    "print(cafe1.menu)\n",
    "print(cafe2.menu)"
   ]
  },
  {
   "cell_type": "code",
   "execution_count": null,
   "metadata": {},
   "outputs": [],
   "source": []
  }
 ],
 "metadata": {
  "kernelspec": {
   "display_name": "Python 3",
   "language": "python",
   "name": "python3"
  },
  "language_info": {
   "codemirror_mode": {
    "name": "ipython",
    "version": 3
   },
   "file_extension": ".py",
   "mimetype": "text/x-python",
   "name": "python",
   "nbconvert_exporter": "python",
   "pygments_lexer": "ipython3",
   "version": "3.11.2"
  },
  "orig_nbformat": 4,
  "vscode": {
   "interpreter": {
    "hash": "c55126c0066c9082750f4b6b1ab91115ca76a90a20ccbda74b1eb18174f6ca9f"
   }
  }
 },
 "nbformat": 4,
 "nbformat_minor": 2
}
